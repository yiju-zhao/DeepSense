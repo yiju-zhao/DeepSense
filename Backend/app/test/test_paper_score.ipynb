{
 "cells": [
  {
   "cell_type": "markdown",
   "metadata": {},
   "source": [
    "关于构建论文的打分系统，以及推荐系统的促钱思考\n",
    "        a. 拿到文章的摘要，和结论\n",
    "        b. RAG，检索上下文，基于本文拿到以下内容；\n",
    "            i. 它核心想要解决什么问题？\n",
    "            ii. 核心技术贡献？\n",
    "            iii. 这是不是一个新的思考和方法\n",
    "            iv. 与当前SOTA对比效果\n",
    "            v. 本文的作者和团队的技术影响力如何 - 这个需要结合网络搜索\n",
    "        c. 给大模型推理，给出几个评分指标和打分，推荐理由 ==》打分高于8分的，进入我们的推荐名单\n",
    "        d. 对抗：\n",
    "            i. 网络搜索：“它核心想要解决什么问题？”这个问题最近的sota 研究是什么\n",
    "            ii. 基于以上声明，和网络检索，汇总这些信息，\n",
    "            iii. 让大模型再来推理一下这个评分是否正确，允许它修正， 并给出修正原因\n",
    "                1) 大模型可以分为几个专家组？ \n",
    "                    a) Ai 算法的专家，\n",
    "                    b) 计算体协结构的专家，\n",
    "                    c) 集群和网络互联的专家，\n",
    "                    d) 芯片设计的专家\n",
    "                    允许这些专家回答说，不相关，不给出评分\n",
    "                2) 最终，按照得分最高的专家拿出来用"
   ]
  },
  {
   "cell_type": "code",
   "execution_count": 78,
   "metadata": {},
   "outputs": [],
   "source": [
    "import os\n",
    "import sys\n",
    "\n",
    "# Add the parent directory to Python path\n",
    "sys.path.append(os.path.dirname(os.getcwd()))"
   ]
  },
  {
   "cell_type": "code",
   "execution_count": 11,
   "metadata": {},
   "outputs": [],
   "source": [
    "# read paper from postgresql\n",
    "# -*- coding: utf-8 -*-\n",
    "from database import SessionLocal\n",
    "\n",
    "def get_db():\n",
    "    db = SessionLocal()\n",
    "    try:\n",
    "        yield db\n",
    "    finally:\n",
    "        db.close()"
   ]
  },
  {
   "cell_type": "code",
   "execution_count": 17,
   "metadata": {},
   "outputs": [
    {
     "name": "stdout",
     "output_type": "stream",
     "text": [
      "129 http://arxiv.org/abs/2503.15558v1 Cosmos-Reason1: From Physical Common Sense To Embodied Reasoning\n",
      "Physical AI systems need to perceive, understand, \n",
      "[{'name': ' NVIDIA', 'affiliations': []}, {'name': ' :', 'affiliations': []}, {'name': 'Alisson Azzolini', 'affiliations': []}, {'name': 'Hannah Brandon', 'affiliations': []}, {'name': 'Prithvijit Chattopadhyay', 'affiliations': []}, {'name': 'Huayu Chen', 'affiliations': []}, {'name': 'Jinju Chu', 'affiliations': []}, {'name': 'Yin Cui', 'affiliations': []}, {'name': 'Jenna Diamond', 'affiliations': []}, {'name': 'Yifan Ding', 'affiliations': []}, {'name': 'Francesco Ferroni', 'affiliations': []}, {'name': 'Rama Govindaraju', 'affiliations': []}, {'name': 'Jinwei Gu', 'affiliations': []}, {'name': 'Siddharth Gururani', 'affiliations': []}, {'name': 'Imad El Hanafi', 'affiliations': []}, {'name': 'Zekun Hao', 'affiliations': []}, {'name': 'Jacob Huffman', 'affiliations': []}, {'name': 'Jingyi Jin', 'affiliations': []}, {'name': 'Brendan Johnson', 'affiliations': []}, {'name': 'Rizwan Khan', 'affiliations': []}, {'name': 'George Kurian', 'affiliations': []}, {'name': 'Elena Lantz', 'affiliations': []}, {'name': 'Nayeon Lee', 'affiliations': []}, {'name': 'Zhaoshuo Li', 'affiliations': []}, {'name': 'Xuan Li', 'affiliations': []}, {'name': 'Tsung-Yi Lin', 'affiliations': []}, {'name': 'Yen-Chen Lin', 'affiliations': []}, {'name': 'Ming-Yu Liu', 'affiliations': []}, {'name': 'Andrew Mathau', 'affiliations': []}, {'name': 'Yun Ni', 'affiliations': []}, {'name': 'Lindsey Pavao', 'affiliations': []}, {'name': 'Wei Ping', 'affiliations': []}, {'name': 'David W. Romero', 'affiliations': []}, {'name': 'Misha Smelyanskiy', 'affiliations': []}, {'name': 'Shuran Song', 'affiliations': []}, {'name': 'Lyne Tchapmi', 'affiliations': []}, {'name': 'Andrew Z. Wang', 'affiliations': []}, {'name': 'Boxin Wang', 'affiliations': []}, {'name': 'Haoxiang Wang', 'affiliations': []}, {'name': 'Fangyin Wei', 'affiliations': []}, {'name': 'Jiashu Xu', 'affiliations': []}, {'name': 'Yao Xu', 'affiliations': []}, {'name': 'Xiaodong Yang', 'affiliations': []}, {'name': 'Zhuolin Yang', 'affiliations': []}, {'name': 'Xiaohui Zeng', 'affiliations': []}, {'name': 'Zhe Zhang', 'affiliations': []}]\n",
      "---\n",
      "130 http://arxiv.org/abs/2503.14734v2 GR00T N1: An Open Foundation Model for Generalist Humanoid Robots\n",
      "General-purpose robots need a versatile body and a\n",
      "[{'name': ' NVIDIA', 'affiliations': []}, {'name': ' :', 'affiliations': []}, {'name': 'Johan Bjorck', 'affiliations': []}, {'name': 'Fernando Castañeda', 'affiliations': []}, {'name': 'Nikita Cherniadev', 'affiliations': []}, {'name': 'Xingye Da', 'affiliations': []}, {'name': 'Runyu Ding', 'affiliations': []}, {'name': 'Linxi \"Jim\" Fan', 'affiliations': []}, {'name': 'Yu Fang', 'affiliations': []}, {'name': 'Dieter Fox', 'affiliations': []}, {'name': 'Fengyuan Hu', 'affiliations': []}, {'name': 'Spencer Huang', 'affiliations': []}, {'name': 'Joel Jang', 'affiliations': []}, {'name': 'Zhenyu Jiang', 'affiliations': []}, {'name': 'Jan Kautz', 'affiliations': []}, {'name': 'Kaushil Kundalia', 'affiliations': []}, {'name': 'Lawrence Lao', 'affiliations': []}, {'name': 'Zhiqi Li', 'affiliations': []}, {'name': 'Zongyu Lin', 'affiliations': []}, {'name': 'Kevin Lin', 'affiliations': []}, {'name': 'Guilin Liu', 'affiliations': []}, {'name': 'Edith Llontop', 'affiliations': []}, {'name': 'Loic Magne', 'affiliations': []}, {'name': 'Ajay Mandlekar', 'affiliations': []}, {'name': 'Avnish Narayan', 'affiliations': []}, {'name': 'Soroush Nasiriany', 'affiliations': []}, {'name': 'Scott Reed', 'affiliations': []}, {'name': 'You Liang Tan', 'affiliations': []}, {'name': 'Guanzhi Wang', 'affiliations': []}, {'name': 'Zu Wang', 'affiliations': []}, {'name': 'Jing Wang', 'affiliations': []}, {'name': 'Qi Wang', 'affiliations': []}, {'name': 'Jiannan Xiang', 'affiliations': []}, {'name': 'Yuqi Xie', 'affiliations': []}, {'name': 'Yinzhen Xu', 'affiliations': []}, {'name': 'Zhenjia Xu', 'affiliations': []}, {'name': 'Seonghyeon Ye', 'affiliations': []}, {'name': 'Zhiding Yu', 'affiliations': []}, {'name': 'Ao Zhang', 'affiliations': []}, {'name': 'Hao Zhang', 'affiliations': []}, {'name': 'Yizhou Zhao', 'affiliations': []}, {'name': 'Ruijie Zheng', 'affiliations': []}, {'name': 'Yuke Zhu', 'affiliations': []}]\n",
      "---\n",
      "131 http://arxiv.org/abs/2503.14492v1 Cosmos-Transfer1: Conditional World Generation with Adaptive Multimodal\n",
      "  Control\n",
      "We introduce Cosmos-Transfer, a conditional world \n",
      "[{'name': ' NVIDIA', 'affiliations': []}, {'name': ' :', 'affiliations': []}, {'name': 'Hassan Abu Alhaija', 'affiliations': []}, {'name': 'Jose Alvarez', 'affiliations': []}, {'name': 'Maciej Bala', 'affiliations': []}, {'name': 'Tiffany Cai', 'affiliations': []}, {'name': 'Tianshi Cao', 'affiliations': []}, {'name': 'Liz Cha', 'affiliations': []}, {'name': 'Joshua Chen', 'affiliations': []}, {'name': 'Mike Chen', 'affiliations': []}, {'name': 'Francesco Ferroni', 'affiliations': []}, {'name': 'Sanja Fidler', 'affiliations': []}, {'name': 'Dieter Fox', 'affiliations': []}, {'name': 'Yunhao Ge', 'affiliations': []}, {'name': 'Jinwei Gu', 'affiliations': []}, {'name': 'Ali Hassani', 'affiliations': []}, {'name': 'Michael Isaev', 'affiliations': []}, {'name': 'Pooya Jannaty', 'affiliations': []}, {'name': 'Shiyi Lan', 'affiliations': []}, {'name': 'Tobias Lasser', 'affiliations': []}, {'name': 'Huan Ling', 'affiliations': []}, {'name': 'Ming-Yu Liu', 'affiliations': []}, {'name': 'Xian Liu', 'affiliations': []}, {'name': 'Yifan Lu', 'affiliations': []}, {'name': 'Alice Luo', 'affiliations': []}, {'name': 'Qianli Ma', 'affiliations': []}, {'name': 'Hanzi Mao', 'affiliations': []}, {'name': 'Fabio Ramos', 'affiliations': []}, {'name': 'Xuanchi Ren', 'affiliations': []}, {'name': 'Tianchang Shen', 'affiliations': []}, {'name': 'Shitao Tang', 'affiliations': []}, {'name': 'Ting-Chun Wang', 'affiliations': []}, {'name': 'Jay Wu', 'affiliations': []}, {'name': 'Jiashu Xu', 'affiliations': []}, {'name': 'Stella Xu', 'affiliations': []}, {'name': 'Kevin Xie', 'affiliations': []}, {'name': 'Yuchong Ye', 'affiliations': []}, {'name': 'Xiaodong Yang', 'affiliations': []}, {'name': 'Xiaohui Zeng', 'affiliations': []}, {'name': 'Yu Zeng', 'affiliations': []}]\n",
      "---\n",
      "132 http://arxiv.org/abs/2501.12992v1 Deep learning enhanced initial model prediction in elastic FWI:\n",
      "  application to marine streamer data\n",
      "Low-frequency data are essential to constrain the \n",
      "[{'name': 'Pavel Plotnitskii', 'affiliations': ['KAUST']}, {'name': 'Oleg Ovcharenko', 'affiliations': ['NVIDIA']}, {'name': 'Vladimir Kazei', 'affiliations': ['Aramco Americas, Houston, USA']}, {'name': 'Daniel Peter', 'affiliations': ['KAUST']}, {'name': 'Tariq Alkhalifah', 'affiliations': ['KAUST']}]\n",
      "---\n",
      "133 http://arxiv.org/abs/2501.03575v2 Cosmos World Foundation Model Platform for Physical AI\n",
      "Physical AI needs to be trained digitally first. I\n",
      "[{'name': ' NVIDIA', 'affiliations': []}, {'name': ' :', 'affiliations': []}, {'name': 'Niket Agarwal', 'affiliations': []}, {'name': 'Arslan Ali', 'affiliations': []}, {'name': 'Maciej Bala', 'affiliations': []}, {'name': 'Yogesh Balaji', 'affiliations': []}, {'name': 'Erik Barker', 'affiliations': []}, {'name': 'Tiffany Cai', 'affiliations': []}, {'name': 'Prithvijit Chattopadhyay', 'affiliations': []}, {'name': 'Yongxin Chen', 'affiliations': []}, {'name': 'Yin Cui', 'affiliations': []}, {'name': 'Yifan Ding', 'affiliations': []}, {'name': 'Daniel Dworakowski', 'affiliations': []}, {'name': 'Jiaojiao Fan', 'affiliations': []}, {'name': 'Michele Fenzi', 'affiliations': []}, {'name': 'Francesco Ferroni', 'affiliations': []}, {'name': 'Sanja Fidler', 'affiliations': []}, {'name': 'Dieter Fox', 'affiliations': []}, {'name': 'Songwei Ge', 'affiliations': []}, {'name': 'Yunhao Ge', 'affiliations': []}, {'name': 'Jinwei Gu', 'affiliations': []}, {'name': 'Siddharth Gururani', 'affiliations': []}, {'name': 'Ethan He', 'affiliations': []}, {'name': 'Jiahui Huang', 'affiliations': []}, {'name': 'Jacob Huffman', 'affiliations': []}, {'name': 'Pooya Jannaty', 'affiliations': []}, {'name': 'Jingyi Jin', 'affiliations': []}, {'name': 'Seung Wook Kim', 'affiliations': []}, {'name': 'Gergely Klár', 'affiliations': []}, {'name': 'Grace Lam', 'affiliations': []}, {'name': 'Shiyi Lan', 'affiliations': []}, {'name': 'Laura Leal-Taixe', 'affiliations': []}, {'name': 'Anqi Li', 'affiliations': []}, {'name': 'Zhaoshuo Li', 'affiliations': []}, {'name': 'Chen-Hsuan Lin', 'affiliations': []}, {'name': 'Tsung-Yi Lin', 'affiliations': []}, {'name': 'Huan Ling', 'affiliations': []}, {'name': 'Ming-Yu Liu', 'affiliations': []}, {'name': 'Xian Liu', 'affiliations': []}, {'name': 'Alice Luo', 'affiliations': []}, {'name': 'Qianli Ma', 'affiliations': []}, {'name': 'Hanzi Mao', 'affiliations': []}, {'name': 'Kaichun Mo', 'affiliations': []}, {'name': 'Arsalan Mousavian', 'affiliations': []}, {'name': 'Seungjun Nah', 'affiliations': []}, {'name': 'Sriharsha Niverty', 'affiliations': []}, {'name': 'David Page', 'affiliations': []}, {'name': 'Despoina Paschalidou', 'affiliations': []}, {'name': 'Zeeshan Patel', 'affiliations': []}, {'name': 'Lindsey Pavao', 'affiliations': []}, {'name': 'Morteza Ramezanali', 'affiliations': []}, {'name': 'Fitsum Reda', 'affiliations': []}, {'name': 'Xiaowei Ren', 'affiliations': []}, {'name': 'Vasanth Rao Naik Sabavat', 'affiliations': []}, {'name': 'Ed Schmerling', 'affiliations': []}, {'name': 'Stella Shi', 'affiliations': []}, {'name': 'Bartosz Stefaniak', 'affiliations': []}, {'name': 'Shitao Tang', 'affiliations': []}, {'name': 'Lyne Tchapmi', 'affiliations': []}, {'name': 'Przemek Tredak', 'affiliations': []}, {'name': 'Wei-Cheng Tseng', 'affiliations': []}, {'name': 'Jibin Varghese', 'affiliations': []}, {'name': 'Hao Wang', 'affiliations': []}, {'name': 'Haoxiang Wang', 'affiliations': []}, {'name': 'Heng Wang', 'affiliations': []}, {'name': 'Ting-Chun Wang', 'affiliations': []}, {'name': 'Fangyin Wei', 'affiliations': []}, {'name': 'Xinyue Wei', 'affiliations': []}, {'name': 'Jay Zhangjie Wu', 'affiliations': []}, {'name': 'Jiashu Xu', 'affiliations': []}, {'name': 'Wei Yang', 'affiliations': []}, {'name': 'Lin Yen-Chen', 'affiliations': []}, {'name': 'Xiaohui Zeng', 'affiliations': []}, {'name': 'Yu Zeng', 'affiliations': []}, {'name': 'Jing Zhang', 'affiliations': []}, {'name': 'Qinsheng Zhang', 'affiliations': []}, {'name': 'Yuxuan Zhang', 'affiliations': []}, {'name': 'Qingqing Zhao', 'affiliations': []}, {'name': 'Artur Zolkowski', 'affiliations': []}]\n",
      "---\n"
     ]
    }
   ],
   "source": [
    "from models.tasks import ArxivPaper\n",
    "\n",
    "db = next(get_db())\n",
    "paper = db.query(ArxivPaper).offset(0).limit(5).all()\n",
    "for p in paper:\n",
    "    print(p.id, p.arxiv_id, p.title)\n",
    "    print(p.summary[:50])\n",
    "    print(p.authors)\n",
    "    print('---')"
   ]
  },
  {
   "cell_type": "code",
   "execution_count": null,
   "metadata": {},
   "outputs": [],
   "source": [
    "# 我们取这篇文章作为实验\n",
    "# https://arxiv.org/pdf/2401.01040\n",
    "# TOWARDS COGNITIVE AI SYSTEMS: A SURVEY AND PROSPECTIVE ON NEURO-SYMBOLIC AI\n",
    "# 先下载论文，手动"
   ]
  },
  {
   "cell_type": "code",
   "execution_count": 79,
   "metadata": {},
   "outputs": [
    {
     "name": "stdout",
     "output_type": "stream",
     "text": [
      "['TOWARDS COGNITIVE AI SYSTEMS: A SURVEY AND PROSPECTIVE ON', 'NEURO-SYMBOLIC AI', 'Zishen Wan 1 Che-Kai Liu * 1 Hanchen Yang * 1 Chaojian Li * 1 Haoran You * 1 Yonggan Fu 1 Cheng Wan 1', 'Tushar Krishna 1 Yingyan (Celine) Lin 1 Arijit Raychowdhury 1', 'ABSTRACT', 'The remarkable advancements in artificial intelligence (AI), primarily driven by deep neural networks, have', 'significantly impacted various aspects of our lives. However, the current challenges surrounding unsustainable', 'computational trajectories, limited robustness, and a lack of explainability call for the development of next-', 'generation AI systems. Neuro-symbolic AI (NSAI) emerges as a promising paradigm, fusing neural, symbolic,', 'and probabilistic approaches to enhance interpretability, robustness, and trustworthiness while facilitating learning']\n"
     ]
    }
   ],
   "source": [
    "# 解析论文，生成RAG\n",
    "def preprocess_pdf(pdf_path):\n",
    "    import fitz  # PyMuPDF\n",
    "    doc = fitz.open(pdf_path)\n",
    "    text = \"\"\n",
    "    for page in doc:\n",
    "        # print(page.number, page.get_text()[:20])\n",
    "        text += page.get_text()\n",
    "    return text\n",
    "\n",
    "text = preprocess_pdf('../../data/pdf/2401.01040v1.pdf')\n",
    "lines = [line.strip() for line in text.split(\"\\n\") if line.strip()]  # 去除空白行\n",
    "print(lines[:10])"
   ]
  },
  {
   "cell_type": "code",
   "execution_count": 80,
   "metadata": {},
   "outputs": [],
   "source": [
    "# 第二次，记录标题行，目的是后续可以按照标题行来把文本内容分为多个chunks\n",
    "# 可以继续扩展\n",
    "SECTION_TITLES = {\n",
    "    \"abstract\": {\"abstract\"},\n",
    "    \"introduction\": {\"introduction\", \"background\", \"preliminaries\", \"preliminary\"},\n",
    "    \"related_work\": {\"related work\", \"prior work\", \"literature review\", \"related studies\"},\n",
    "    \"methodology\": {\"methodology\", \"methods\", \"method\", \"approach\", \"proposed method\", \n",
    "                    \"model\", \"architecture\", \"framework\", \"algorithm\", \"system design\"},\n",
    "    \"experiment\": {\"experiment\", \"experiments\", \"experimental setup\", \"experiment setup\",\n",
    "                   \"setup\", \"implementation details\", \"evaluation\", \"evaluation setup\"},\n",
    "    \"ablation\":{\"ablation\",\"ablation study\"},\n",
    "    \"results\": {\"results\", \"performance\", \"findings\", \"observations\", \"empirical results\"},\n",
    "    \"discussion\": {\"discussion\", \"analysis\", \"interpretation\"},\n",
    "    \"summary\":{\"summary\"},\n",
    "    \"conclusion\": {\"conclusion\", \"final remarks\", \"closing remarks\"},\n",
    "    \"limitations\":{\"limitations\"},\n",
    "    \"acknowledgments\": {\"acknowledgments\", \"acknowledgements\", \"funding\", \"author contributions\"},\n",
    "    \"references\": {\"references\", \"bibliography\", \"cited works\"},\n",
    "    \"appendix\": {\"appendix\", \"supplementary material\", \"supplementary\", \"additional materials\"}\n",
    "}\n",
    "\n",
    "# 论文拆分参数\n",
    "MAX_LINE_PER_CHUNK = 25  # 每个 chunk 最大行数\n",
    "OVERLAP_LINES = 5  # 上下文重叠行数\n",
    "REFERENCE_BLOCK_SIZE = 8  # 参考文献块大小（5~10行）\n"
   ]
  },
  {
   "cell_type": "code",
   "execution_count": 81,
   "metadata": {},
   "outputs": [],
   "source": [
    "import re\n",
    "\n",
    "def detect_section_titles(lines):\n",
    "    \"\"\"检测标题行，返回标题索引\"\"\"\n",
    "    title_indices = {}\n",
    "    section_num = 0 # 对于 summary、limitation 这类标题，可能在多个位置出现，需要全部保留。加一个编码，保证独立\n",
    "    for i, line in enumerate(lines):\n",
    "        clean_line = re.sub(r\"[^a-zA-Z\\s]\", \"\", line).strip().lower()\n",
    "        for section, keywords in SECTION_TITLES.items():\n",
    "            if any(re.match(rf\"^\\s*(\\d+([\\.\\-）]\\d+)*[\\.\\-）]*\\s*)?{re.escape(kw)}\\s*$\", clean_line, re.IGNORECASE) for kw in keywords):\n",
    "                if (section in title_indices):\n",
    "                    title_indices[section+\"_\"+str(section_num)] = i\n",
    "                    section_num += 1\n",
    "                else:\n",
    "                    title_indices[section] = i\n",
    "                break\n",
    "    return title_indices"
   ]
  },
  {
   "cell_type": "code",
   "execution_count": 82,
   "metadata": {},
   "outputs": [
    {
     "name": "stdout",
     "output_type": "stream",
     "text": [
      "{'abstract': 4, 'introduction': 15, 'conclusion': 544, 'acknowledgments': 552, 'references': 557}\n",
      "4\n"
     ]
    }
   ],
   "source": [
    "title_indices = detect_section_titles(lines)  # 2. 识别标题\n",
    "print(title_indices)\n",
    "\n",
    "abstract_index = title_indices.get(\"abstract\", None)  # 获取 Abstract 标题的索引\n",
    "print(abstract_index)"
   ]
  },
  {
   "cell_type": "code",
   "execution_count": 83,
   "metadata": {},
   "outputs": [],
   "source": [
    "from collections import defaultdict\n",
    "\n",
    "def split_chunks_by_title(lines, title_indices):\n",
    "    \"\"\"按照标题行分块\"\"\"\n",
    "    chunks = defaultdict(list)\n",
    "    sorted_sections = sorted(title_indices.items(), key=lambda x: x[1])  # 按出现顺序排序\n",
    "\n",
    "    for idx, (section, start_idx) in enumerate(sorted_sections):\n",
    "        end_idx = sorted_sections[idx + 1][1] if idx + 1 < len(sorted_sections) else len(lines)\n",
    "        chunks[section] = lines[start_idx:end_idx]\n",
    "    \n",
    "    return chunks"
   ]
  },
  {
   "cell_type": "code",
   "execution_count": 84,
   "metadata": {},
   "outputs": [
    {
     "name": "stdout",
     "output_type": "stream",
     "text": [
      "defaultdict(<class 'list'>, {'abstract': ['ABSTRACT', 'The remarkable advancements in artificial intelligence (AI), primarily driven by deep neural networks, have', 'significantly impacted various aspects of our lives. However, the current challenges surrounding unsustainable', 'computational trajectories, limited robustness, and a lack of explainability call for the development of next-', 'generation AI systems. Neuro-symbolic AI (NSAI) emerges as a promising paradigm, fusing neural, symbolic,', 'and probabilistic approaches to enhance interpretability, robustness, and trustworthiness while facilitating learning', 'from much less data. Recent NSAI systems have demonstrated great potential in collaborative human-AI scenarios', 'with reasoning and cognitive capabilities. In this paper, we provide a systematic review of recent progress in', 'NSAI and analyze the performance characteristics and computational operators of NSAI models. Furthermore, we', 'discuss the challenges and potential future directions of NSAI from both system and architectural perspectives.', '1'], 'introduction': ['INTRODUCTION', 'Remarkable advancements in artificial intelligence (AI)', 'have had a profound impact on our lives and numerous', 'industries. These advancements are primarily driven by', 'deep neural networks (DNN) and a virtuous cycle involving', 'large networks, extensive datasets, and augmented comput-', 'ing power. As we reap the benefits of this success, there is', 'growing evidence that continuing our current trajectory may', 'not be viable for realizing AI’s full potential. First, the esca-', 'lating computational requirements and energy consumption', 'associated with AI are on an unsustainable trajectory (Wu', 'et al., 2022), threatening to reach a level that could stifle', 'innovation by restricting it to a select few organizations.', 'Second, the lack of robustness and explainability remains', 'a significant challenge, likely due to inherent limitations in', 'current learning methodologies (Wan et al., 2021; Dwivedi', 'et al., 2023). Third, contemporary AI systems mostly oper-', 'ate in isolation, with limited collaboration between humans', 'and AI agents. Hence, it is imperative to develop next-', 'generation AI paradigms that address the growing demand', 'for efficiency, explainability, and trust in AI systems.', 'Neuro-symbolic AI (NSAI) represents an emerging AI', 'paradigm that integrates neural, symbolic, and probabilistic', 'approaches to enhance explainability, robustness, and enable', '*Equal contribution', '1Georgia Institute of Technology. Cor-', 'respondence to:', 'Tushar Krishna <tushar@ece.gatech.edu>,', 'Yingyan (Celine) Lin <ylin715@gatech.edu>, Arijit Raychowd-', 'hury <arijit.raychowdhury@ece.gatech.edu>.', 'Workshop on Systems for Next-Gen AI Paradigms, 6 th Confer-', 'ence on Machine Learning and Systems (MLSys), June 4-8, 2023,', 'Miami, FL, USA. Copyright 2023 by the author(s).', 'learning from much less data in AI (Fig. 1). Neural methods', 'have proven highly effective in extracting complex features', 'from data for tasks such as natural language processing', 'and object detection. On the other hand, symbolic methods', 'enhance explainability and reduce the dependence on exten-', 'sive training data by incorporating established models of the', 'physical world, and probabilistic methods enable cognitive', 'systems to more effectively handle uncertainty, resulting in', 'improved robustness under unstructured conditions. The', 'synergistic fusion of neural, symbolic, and probabilistic', 'methods positions NSAI as a promising paradigm capable', 'of ushering in the third wave of AI (Garcez & Lamb, 2023).', 'NSAI promises many possibilities for AI systems that ac-', 'quire human-like communication and reasoning capabilities,', 'enabling them to recognize, classify, and adapt to new situa-', 'tions autonomously. In addition to its superior performance', 'Neural Network', 'Scalable', 'Flexible', 'Handle inconsistency', 'Symbolic', 'Probabilistic', 'Interpretable', 'Explainable', 'Data-eﬃcient', 'Robust to', 'uncertainty', 'CPU', 'GPU', 'Domain-Speciﬁc', 'Accelerator', 'Challenges', 'Research Opportunities', '1', '2', '3', '4', '(Section 4)', '(Section 2)', '(Section 3)', 'Unifying neuro-symbolic-prob models', 'Developing efﬁcient software frameworks', 'Benchmarking diverse NSAI workloads', 'Designing cognitive architectures', 'Large #algos and #HW', 'Ad-hoc model design', 'Heterog. compute kernels', 'Limited extensibility', 'Neuro-Symbolic AI Algorithms', '+', '+', 'Hardware Compute Platforms', 'Limited evaluation tasks', 'Building more cognitive datasets/testbeds', '1', '2', '3', '4', '5', 'Human-like Cognitive AI', 'Learning, Reasoning,', 'Collaboration', '5', 'Figure 1. Overview of neuro-symbolic AI systems, and challenges', 'and opportunities in advancing next-generation cognitive AI.', 'arXiv:2401.01040v1  [cs.AI]  2 Jan 2024', 'Towards Cognitive AI Systems: a Survey and Prospective on Neuro-Symbolic AI', 'compared to traditional AI models in tasks such as image', 'and video question answering (Mao et al., 2019; Yang et al.,', '2020), NSAI holds significant potential for enhancing real-', 'time responses, energy efficiency, explainability, and trust-', 'worthiness of collaborative human-AI applications. These', 'applications include collaborative robotics, mixed-reality', 'systems, and human-AI interactions in the metaverse, where', 'robots can seamlessly interact with humans in complex en-', 'vironments, AI agents can reason and make decisions in a', 'robust and explainable manner, and intelligence is perva-', 'sively embedded and untethered from the cloud.', 'In this paper, we provide a systematic survey, evaluation,', 'and analysis of NSAI systems, promising a next-generation', 'AI paradigm. First, we review and categorize the state-of-', 'the-art NSAI systems from a structured perspective (Sec. 2).', 'Second, we analyze various NSAI workloads on hardware', 'platforms, examining their runtime characteristics and un-', 'derlying compute operators (Sec. 3). Lastly, we discuss', 'the challenges and opportunities for NSAI system research', 'and our outlook on the road ahead (Sec. 4). To the best of', 'our knowledge, this is the first paper to assess NSAI from', 'both a system and architecture perspective, aiming to inspire', 'the design of next-generation cognitive computing systems', 'through synergistic advancements in NSAI algorithms, sys-', 'tems, architecture, and algorithm-hardware co-design.', '2', 'NEURO-SYMBOLIC AI ALGORITHMS', 'In this section, we systematically review and categorize the', 'recent research progress in NSAI algorithms.', 'Overview. NSAI represents an interdisciplinary approach', 'that synergistically combines symbolic reasoning with neu-', 'ral network (NN) learning to create intelligent systems,', 'leveraging the complementary strengths of both to enhance', 'the accuracy and interpretability of the resulting models.', 'Given that NSAI algorithms typically incorporate both sym-', 'bolic and neural components, various NSAI paradigms can', 'be categorized based on how these components are inte-', 'grated into a cohesive system. Inspired by Henry Kautz’s', 'NSAI taxonomy (Kaut, 2020), we systematically categorize', 'these NSAI algorithms into five paradigms, as summarized', 'in Tab. 1. We elaborate each of these paradigms below. Ad-', 'ditionally, Tab. 2 provides examples of several underlying', 'operations based on the categorization in Tab. 1.', 'Symbolic[Neuro] refers to an intelligent system that em-', 'powers symbolic reasoning with the statistical learning ca-', 'pabilities of NNs. These systems typically consist of a com-', 'prehensive symbolic problem solver that includes loosely-', 'coupled neural subroutines for statistical learning. Exam-', 'ples include DeepMind’s AlphaGo (Silver et al., 2017) and', 'AlphaZero (Zhang & Yu, 2020), which use Monte-Carlo', 'Tree Search (MCTS) as the symbolic solver and NN state', 'estimators for learning statistical patterns.', 'Table 1. Survey of recent NSAI algorithms into five groups, with a', 'summary of their underlying operations and vector formats.', 'Category', 'NSAI Algorithm', 'Underlying Operation', 'If Vector', 'Symbolic[Neuro]', 'AlphaGo (Silver et al., 2017)', 'NN, MCTS', 'Vector', 'Neuro|Symbolic', 'NVSA (Hersche et al., 2023)', 'NN, mul, add', 'Vector', 'NeuPSL (Pryor et al., 2022)', 'NN, fuzzy logic', 'Vector', 'NSCL (Mao et al., 2019)', 'NN, add, mul, div, log', 'Vector', 'NeurASP (Yang et al., 2020)', 'NN, logic rules', 'Non-Vector', 'ABL (Dai et al., 2019)', 'NN, logic rules', 'Non-Vector', 'NSVQA (Yi et al., 2018)', 'NN, pre-defined objects', 'Non-Vector', 'Neuro:Symbolic', '→Neuro', 'LNN (Riegel et al., 2020)', 'NN, fuzzy logic', 'Vector', 'Symbolic Mathematics', '(Lample & Charton, 2019)', 'NN', 'Vector', 'Differentiable ILP', '(Evans & Grefenstette, 2018)', 'NN, fuzzy logic', 'Vector', 'NeuroSymbolic', 'LTN (Badreddine et al., 2022)', 'NN, fuzzy logic', 'Vector', 'Deep ontology networks', '(Hohenecker & Lukas, 2020)', 'NN', 'Vector', 'Neuro[Symbolic]', 'GNN+attention', '(Lamb et al., 2020)', 'NN, SpMM, SDDMM', 'Vector', 'NLM (Dong et al., 2019)', 'NN, permutation', 'Vector', 'Neuro|Symbolic refers to a hybrid system that combines a', 'neural system and a symbolic system in a pipeline, where', 'each component typically specializes in complementary', 'tasks within the pipeline. To the best of our knowledge, the', 'majority of NSAI algorithms fall into this category. For ex-', 'ample, IBM’s neuro-vector-symbolic architecture (NVSA)', '(Hersche et al., 2023) uses an NN as the frontend for per-', 'ception and semantic parsing, and a symbolic reasoner as', 'the backend for probabilistic abductive reasoning on the', 'RAVEN (Zhang et al., 2019) and I-RAVEN (Hu et al., 2021)', 'datasets. Other examples include neuro-probabilistic soft', 'logic (NeuPSL) (Pryor et al., 2022), neural probabilistic', 'logic programming (DeepProbLog) (Manhaeve et al., 2021),', 'neuro-answer set programming (NeurASP) (Yang et al.,', '2020), nerual symbolic dynamic reasoning (Yi et al., 2020),', 'neural symbolic concept learner (NSCL) (Mao et al., 2019),', 'abductive learning (ABL) (Dai et al., 2019), and neuro-', 'symbolic visual question answering (NSVQA) (Yi et al.,', '2018) on the CLEVRER dataset (Yi et al., 2020).', 'Neuro:Symbolic→Neuro approach incorporates symbolic', 'rules into NNs to guide the learning process, where symbolic', 'knowledge is compiled into the structure of neural models', 'for enhancing the model interpretability. For instance, log-', 'ical NNs (LNNs) (Riegel et al., 2020) encode knowledge', 'or domain expertise as symbolic rules (first-order logic or', 'fuzzy logic) that act as constraints on the NN output. Other', 'examples include deep learning for symbolic mathematics', '(Lample & Charton, 2019) and differentiable inductive logic', 'programming (ILP) (Evans & Grefenstette, 2018).', 'NeuroSymbolic is a type of hybrid approach that combines', 'symbolic logic rules with NNs. It involves mapping sym-', 'bolic logic rules onto embeddings that serve as soft con-', 'straints or regularizers on the NN’s loss function. Logical', 'tensor networks (LTNs) (Badreddine et al., 2022), for in-', 'stance, use logical formulas to define constraints on the ten-', 'sor representations, which has proven successful in knowl-', 'edge graph completion tasks. These tasks aim to predict', 'Towards Cognitive AI Systems: a Survey and Prospective on Neuro-Symbolic AI', 'Table 2. Enumeration of the underlying operations based on Tab. 1.', 'Underlying Operations', 'Examples', 'Fuzzy logic', '(LTN)', 'F = ∀x(isCarnivor(s)) →(isMammal(x))', '{isCarnivor(s):[0, 1], isMammal(x):[1, 0]} →F = [1, 0]', 'Mul and Add (NVSA)', 'Xi ∈{+1, −1}d →(Xi · Xj)/(Xi + Xj)', 'Logic rules', '(ABL)', 'Domain: animal(dog).carnivore(dog).mammal(dog)', 'Logical formula: mammal(x) ∧carnivore(x)', 'ABL: hypos(x) : −animal(x), mammal(x), carnivore(x)', 'Pre-defined objects', '(NSVQA)', 'equal color: (entry, entry) →Boolean', 'equal integer: (number, number) →Boolean', 'missing facts or relationships between entities. Other exam-', 'ples of this approach include deep ontology networks (Hohe-', 'necker & Lukas, 2020) and tensorization methods (Garcez', 'et al., 2019). As the inference is still governed by NNs,', 'it remains a research question whether this approach will', 'compromise the interpretability.', 'Neuro[Symbolic] refers to a system that empowers NNs', 'with the explainability and robustness of symbolic reason-', 'ing.', 'Unlike Symbolic[Neuro], where symbolic reason-', 'ing is used to guide the neural model learning process, in', 'Neuro[Symbolic], the neural model incorporates symbolic', 'reasoning by paying attention to specific symbolics at cer-', 'tain conditions. For instance, graph neural networks (GNNs)', 'are often adopted as strong candidates for representing sym-', 'bolic expressions when endowed with attention mechanisms', '(Lamb et al., 2020). In particular, this attention mechanism', 'can be leveraged to incorporate symbolic rules into GNN', 'models, enabling selective attention to pertinent symbolic', 'information in the graph. Other examples include neural', 'logic machines (NLM) (Dong et al., 2019).', '3', 'NSAI SYSTEM PROFILING', 'In this section, we analyze the performance characteristics', 'of three recent NSAI models and discuss their system bottle-', 'neck, workload operators, and optimization opportunities.', '3.1', 'NSAI Model and Experimental Methodology', 'Model Overview. We select three NSAI models for profil-', 'ing analysis: an LNN on a logic program task (Riegel et al.,', '2020), an LTN on a binary classification task (Badreddine', 'et al., 2022), and an NVSA (Hersche et al., 2023) on the', 'Raven’s Progressive Matrices task (Zhang et al., 2019), rep-', 'resenting Neuro:Symbolic→Neuro, NeuroSymbolic, and', 'Neuro|Symbolic NSAI systems (Sec. 2), respectively. The', 'readers are referred to their references for more details.', 'Runtime Profiling Method. We first conduct function-', 'level profiling to capture runtime statistics, and then use the', 'PyTorch Profiler (Maxim Lukiyanov, Guoliang Hua, Geeta', 'Chauhan, and Gisle Dankel, 2021) to measure the CPU and', 'GPU runtimes of each model at a per-function granularity.', 'The experiments are conducted on a system with an Intel', 'Xeon Silver 4114 CPU and an Nvidia RTX 2080 Ti GPU.', 'Compute Operator Analysis Method. On top of the above', 'profiling, we perform compute operator-level profiling for', 'further analysis. We classify each neuro and symbolic work-', 'load of the LNN, LTN, and NVSA models into six operator', 'categories: convolution, matrix multiplication (MatMul),', 'vector/element-wise operation (e.g., tensor add, div, and', 'norm), data transformation (e.g., reshape and transpose),', 'data movement (e.g., inter-device transfer), and others (e.g.,', 'fuzzy logic, and logic rule) (Susskind et al., 2021).', '3.2', 'NSAI Model Profiling Results', 'Runtime Breakdown. Compared to neuro workloads, sym-', 'bolic workloads are not negligible in computing latency and', 'may become a system bottleneck. Fig. 2(a) shows the run-', 'time breakdown for each model, where the neuro (symbolic)', 'workloads account for 54.6% (45.4%), 48.0% (52.0%), 7.9%', '(92.1%) runtime of the LNN, LTN, and NVSA models, re-', 'spectively. Notably, the symbolic workload dominates the', 'NVSA’s runtime, predominately due to the sequential and', 'computational-intensive rule detection during the involved', 'reasoning procedure. This reasoning computation depends', 'on the result of the frontend neuro workload and thus lies', 'on the critical path during inference; Nevertheless, there are', 'still opportunities for leveraging data pre-processing and', 'parallel rule query to reduce this bottleneck.', 'Runtime Scalability. We observe that the neuro vs. sym-', 'bolic runtime proportion shown in Fig. 2(a) remains rela-', 'tively stable across various test sets under the same size,', 'whereas the total runtime increases quadratically with the', 'test set size. For example, when the test set size increases', 'from 2×2 to 3×3, the symbolic workload runtime percent-', 'age only increases from 92.06% to 94.71%, but the total', 'runtime of the NVSA model increases by 5.02×, indicating', 'the potential scalability bottleneck of NSAI models.', 'Fig. 2(b) partitions the neuro and symbolic workloads of the', 'LNN, LTN, and NVSA models into six operator categories', 'with runtime breakdown. Below is the workload analysis:', 'Neuro Workload Analysis. The neuro workload is domi-', 'nated by the MatMul and activation operations. LTN (neuro)', 'is dominated by MatMul due to its heavy MLP components,', 'while NVSA’s (neuro) majority runtime is on MatMul and', 'convolution because it adopts ResNet18 as the perception', '0.00%', 'LNN', '0.51%', '43.6%', '16.4%', '39.5%', '0.00%', '0.00% 0.00%', '19.3%', '17.3%', '39.4%', '24.0%', '0.00% 62.5%', '26.8%', '7.20%', '3.48%', '0.00%', '0.00% 0.00%', '73.1%', '2.40%', '6.36%', '18.1%', '30.7% 34.8%', '22.0%', '3.11%', '9.40%', '0.00%', '35.7% 0.52%', '49.9%', '6.82%', '7.12%', '0.00%', '0%', '15%', '30%', '45%', '(Neuro)', 'LNN', '(Symbolic)', 'LTN', '(Neuro)', 'LTN', '(Symbolic)', 'NVSA', '(Neuro)', 'NVSA', '(Symbolic)', 'Conv', 'MatMul', 'Vector/Element', 'Data', 'Data', 'Other', 'Transform', 'Movement', '-wise', '>60%', '0', '20', '40', '60', '80', 'Normalized Time (%)', 'LNN LTN NVSA', 'Neuro', 'Symb.', '100', '54.55%', '45.45%', '47.98%', '52.02%', '7.94%', '92.06%', '(a)', '(b)', 'Figure 2. (a) Runtime breakdown and (b) compute operation anal-', 'ysis for three neuro-symbolic AI models - LNN, LTN and NVSA.', 'Towards Cognitive AI Systems: a Survey and Prospective on Neuro-Symbolic AI', 'backbone for feature extraction. By contrast, a large portion', 'of LNN’s (neuro) runtime is on element-wise operations due', 'to the sparse syntax tree structure composed of proposition', 'logic. Notably, data movement also takes up a significant', 'amount of LNN’s (neuro) runtime because of its unique', 'bidirectional dataflow during reasoning inference.', 'Symbolic Workload Analysis. The symbolic workload is', 'dominated by vector and scalar operations exhibiting low op-', 'erational intensities and complex control flows. Both LNN', '(symbolic) and LTN (symbolic) have a large number of logic', 'operations, posing parallelism optimization opportunities in', 'their database queries and arithmetic operations, especially', 'for larger symbolic models. Meanwhile, LNN (symbolic) is', 'severally data movement-bounded due to its sparse and ir-', 'regular memory accesses and bidirectional inference, where', 'model-aware dataflow architecture would likely be benefi-', 'cial for alleviating this bottleneck. Notably, the element-', 'wise operations usually stem from high-dimensional dis-', 'tributed vector computations (e.g., binding, bundling, and', 'permutation) for symbolic representation, which is difficult', 'to process efficiently on GPUs. Therefore, the challenges of', 'accelerating these computations will become increasingly', 'important as the task and feature complexities further grow.', '4', 'CHALLENGES AND OPPORTUNITIES', 'In this section, we discuss the challenges and opportunities', 'for NSAI systems, and outlines our vision for the future,', 'focusing on the system and architecture perspectives.', 'Building ImageNet-like NSAI datasets. NSAI systems', 'hold great potential in achieving human-like AI (Booch', 'et al., 2021). However, their current applications are limited', 'to basic decision-making and reasoning problems (Garcez', 'et al., 2022), falling short of the broader vision of human', 'cognitive abilities, such as interpretability, deductive reason-', 'ing, systematicity, productivity, compositionality, inferential', 'coherence of mental thought, and causal and counterfactual', 'thinking. To significantly advance the metacognitive ca-', 'pabilities of NSAI systems, more challenging and suitable', 'datasets are highly desirable to unleash NSAI’s potential.', 'Unifying neuro-symbolic-probabilistic models. Integrat-', 'ing neural, symbolic, and probabilistic approaches offers', 'promise to improve AI models’ explainability and robust-', 'ness. However, the current attempts to combine these com-', 'plementary approaches are still in a nascent manner (Wang', '& Yang, 2022) - how to integrate them in a principled man-', 'ner remains a fundamental and open challenge. We en-', 'vision a unified framework to design algorithms that op-', 'portunistically combine neural, symbolic, and probabilistic', 'components, and for quantifying scaling laws for neuro-', 'probabilistic-symbolic inference versus large neural models.', 'Developing efficient software frameworks. NSAI sys-', 'tems typically utilize underlying logic, such as fuzzy logic,', 'parameterization, and differentiable structures, to support', 'learning and reasoning capabilities. However, most NSAI', 'system implementations create custom software for deduc-', 'tion for the particular logic used, which limits modularity', 'and extensibility (Aditya et al., 2023). Therefore, new soft-', 'ware frameworks are needed that can encompass a broad set', 'of reasoning logical capabilities and provide practical syn-', 'tactic and semantic extensions while being fast and memory-', 'efficient. Moreover, new programming models, compilers,', 'and runtimes that can facilitate the ease and efficient real-', 'ization of the neuro-symbolic-probabilistic models are of', 'significance to realize the full promise of NSAI paradigms.', 'Benchmarking diverse NSAI workloads. Given the pro-', 'liferation of NSAI algorithms and the rapid advancements', 'in hardware platforms, it is crucial to benchmark NSAI sys-', 'tems in a comparable, quantitative, and validatable manner.', 'To achieve this, from the system aspect, we need repre-', 'sentative benchmarks that capture the essential workload', 'characteristics (e.g., compute kernels, access patterns, and', 'sparsity) of neural, symbolic, and probabilistic models, and', 'that can be quantitatively tested in human-AI applications.', 'Additionally, from an architectural and hardware perspec-', 'tive, we need modeling-simulation-characterization frame-', 'works to enable the development of novel architectures for', 'these workloads and build optimized modular blocks as', 'libraries by leveraging workload characteristics, as other', 'emerging domains (Krishnan et al., 2022a; Wan et al., 2022).', 'Benchmarking NSAI will guide ML researchers and system', 'architects in investigating the trade-offs in accuracy, perfor-', 'mance, and efficiency of various NSAI algorithms, and in', 'implementing systems in a performance-portable way.', 'Designing cognitive hardware architectures. NSAI work-', 'loads that combine neural, symbolic, and probabilistic meth-', 'ods feature much greater heterogeneity in compute kernels,', 'sparsity, irregularity in access patterns, and higher memory', 'intensity than current DNN workloads. This leads to an in-', 'creasing divergence with the current hardware roadmap that', 'largely focuses on matrix multiplication or nearest neighbor', 'search, and regular dataflows, e.g., systolic arrays (Krishnan', 'et al., 2022b) or compute-in-memory crossbars (Crafton', 'et al., 2022). Therefore, we need novel architectures with', 'dedicated processing units, memory hierarchies, and on-chip', 'interconnects that can handle the additional complexities in', 'computations and communications. Additionally, the archi-', 'tecture needs to provide flexibility with both configurable', 'interconnects and full addressable memories to keep pace', 'with NSAI algorithmic innovations.', '5'], 'conclusion': ['CONCLUSION', 'NSAI is an emerging paradigm for next-generation effi-', 'cient, robust, explainable, and cognitive AI systems. This', 'paper systematically reviews recent NSAI algorithms, char-', 'Towards Cognitive AI Systems: a Survey and Prospective on Neuro-Symbolic AI', 'acterizes their system performance, analyzes their workload', 'operators, and identifies the challenges and opportunities', 'towards fullfiling next-generation NSAI systems.'], 'acknowledgments': ['ACKNOWLEDGEMENTS', 'We thank Sixu Li and Yang (Katie) Zhao for their technical', 'support. This work was supported in part by CoCoSys, one', 'of the seven centers in JUMP 2.0, a Semiconductor Research', 'Corporation (SRC) program sponsored by DARPA.'], 'references': ['REFERENCES', 'Aditya, D., Mukherji, K., Balasubramanian, S., Chaudhary,', 'A., and Shakarian, P. Pyreason: Software for open world', 'temporal logic. arXiv preprint arXiv:2302.13482, 2023.', 'Badreddine, S., Garcez, A. d., Serafini, L., and Spranger,', 'M. Logic tensor networks. Artificial Intelligence, 303:', '103649, 2022.', 'Booch, G., Fabiano, F., Horesh, L., Kate, K., Lenchner,', 'J., Linck, N., Loreggia, A., Murgesan, K., Mattei, N.,', 'Rossi, F., et al. Thinking fast and slow in ai. In Proceed-', 'ings of the AAAI Conference on Artificial Intelligence,', 'volume 35, pp. 15042–15046, 2021.', 'Crafton, B., Wan, Z., Spetalnick, S., Yoon, J.-H., Wu, W.,', 'Tokunaga, C., De, V., and Raychowdhury, A. Improving', 'compute in-memory ecc reliability with successive cor-', 'rection. In Proceedings of the 59th ACM/IEEE Design', 'Automation Conference, pp. 745–750, 2022.', 'Dai, W.-Z., Xu, Q., Yu, Y., and Zhou, Z.-H. Bridging ma-', 'chine learning and logical reasoning by abductive learn-', 'ing. Advances in Neural Information Processing Systems,', '32, 2019.', 'Dong, H., Mao, J., Lin, T., Wang, C., Li, L., and Zhou, D.', 'Neural logic machines. In International Conference on', 'Learning Representations, 2019.', 'Dwivedi, R., Dave, D., Naik, H., Singhal, S., Omer, R.,', 'Patel, P., Qian, B., Wen, Z., Shah, T., Morgan, G., et al.', 'Explainable ai (xai): Core ideas, techniques, and solu-', 'tions. ACM Computing Surveys, 55(9):1–33, 2023.', 'Evans, R. and Grefenstette, E. Learning explanatory rules', 'from noisy data. Journal of Artificial Intelligence Re-', 'search, 61:1–64, 2018.', 'Garcez, A. d. and Lamb, L. C. Neurosymbolic ai: The 3 rd', 'wave. Artificial Intelligence Review, pp. 1–20, 2023.', 'Garcez, A. d., Gori, M., Lamb, L. C., Serafini, L., Spranger,', 'M., and Tran, S. N. Neural-symbolic computing: An ef-', 'fective methodology for principled integration of machine', 'learning and reasoning. arXiv preprint arXiv:1905.06088,', '2019.', 'Garcez, A. d., Bader, S., Bowman, H., Lamb, L. C., de Pen-', 'ning, L., Illuminoo, B., Poon, H., and Zaverucha, C. G.', 'Neural-symbolic learning and reasoning: a survey and in-', 'terpretation. Neuro-Symbolic Artificial Intelligence: The', 'State of the Art, 342(1), 2022.', 'Hersche, M., Zeqiri, M., Benini, L., Sebastian, A., and', 'Rahimi, A. A neuro-vector-symbolic architecture for', 'solving raven’s progressive matrices. Nature Machine', 'Intelligence, pp. 1–13, 2023.', 'Hohenecker, P. and Lukas, T. Ontology reasoning with', 'deep neural networks. Journal of Artificial Intelligence', 'Research, 68:503–540, 2020.', 'Hu, S., Ma, Y., Liu, X., Wei, Y., and Bai, S. Stratified rule-', 'aware network for abstract visual reasoning. In Proceed-', 'ings of the AAAI Conference on Artificial Intelligence,', 'volume 35, pp. 1567–1574, 2021.', 'Kaut, H. Robert s. engelmore memorial lecture at aaai', '2020. https://roc-hci.com/announcements/the-third-ai-', 'summer/, 2020.', 'Krishnan, S., Wan, Z., Bhardwaj, K., Jadhav, N., Faust,', 'A., and Reddi, V. J. Roofline model for uavs: A bottle-', 'neck analysis tool for onboard compute characterization', 'of autonomous unmanned aerial vehicles. In 2022 IEEE', 'International Symposium on Performance Analysis of Sys-', 'tems and Software (ISPASS), pp. 162–174. IEEE, 2022a.', 'Krishnan, S., Wan, Z., Bhardwaj, K., Whatmough, P., Faust,', 'A., Neuman, S., Wei, G.-Y., Brooks, D., and Reddi, V. J.', 'Automatic domain-specific soc design for autonomous', 'unmanned aerial vehicles. In 2022 55th IEEE/ACM Inter-', 'national Symposium on Microarchitecture (MICRO), pp.', '300–317. IEEE, 2022b.', 'Lamb, L. C., Garcez, A., Gori, M., Prates, M., Avelar, P., and', 'Vardi, M. Graph neural networks meet neural-symbolic', 'computing: A survey and perspective. In IJCAI-PRICAI', '2020-29th International Joint Conference on Artificial', 'Intelligence-Pacific Rim International Conference on Ar-', 'tificial Intelligence, 2020.', 'Lample, G. and Charton, F. Deep learning for symbolic', 'mathematics. In International Conference on Learning', 'Representations, 2019.', 'Manhaeve, R., Dumanˇci´c, S., Kimmig, A., Demeester, T.,', 'and De Raedt, L. Neural probabilistic logic programming', 'in deepproblog. Artificial Intelligence, 298:103504, 2021.', 'Mao, J., Gan, C., Kohli, P., Tenenbaum, J. B., and Wu, J.', 'The neuro-symbolic concept learner: Interpreting scenes,', 'words, and sentences from natural supervision. In Inter-', 'national Conference on Learning Representations, 2019.', 'Towards Cognitive AI Systems: a Survey and Prospective on Neuro-Symbolic AI', 'Maxim Lukiyanov,', 'Guoliang Hua,', 'Geeta Chauhan,', 'and', 'Gisle', 'Dankel.', 'Introducing', 'PyTorch', 'Pro-', 'filer - the new and improved performance tool,', '2021.', 'https://pytorch.org/blog/introducing-pytorch-', 'profiler-the-new-and-improved-performance-tool/,', 'ac-', 'cessed 2021-05-21.', 'Pryor, C., Dickens, C., Augustine, E., Albalak, A., Wang,', 'W., and Getoor, L. Neupsl: Neural probabilistic soft logic.', 'arXiv preprint arXiv:2205.14268, 2022.', 'Riegel, R., Gray, A., Luus, F., Khan, N., Makondo, N.,', 'Akhalwaya, I. Y., Qian, H., Fagin, R., Barahona, F.,', 'Sharma, U., et al. Logical neural networks. arXiv preprint', 'arXiv:2006.13155, 2020.', 'Silver, D., Hubert, T., Schrittwieser, J., Antonoglou, I., Lai,', 'M., Guez, A., Lanctot, M., Sifre, L., Kumaran, D., Grae-', 'pel, T., et al. Mastering chess and shogi by self-play', 'with a general reinforcement learning algorithm. arXiv', 'preprint arXiv:1712.01815, 2017.', 'Susskind, Z., Arden, B., John, L. K., Stockton, P., and', 'John, E. B. Neuro-symbolic ai: An emerging class of', 'ai workloads and their characterization. arXiv preprint', 'arXiv:2109.06133, 2021.', 'Wan, Z., Anwar, A., Hsiao, Y.-S., Jia, T., Reddi, V. J.,', 'and Raychowdhury, A. Analyzing and improving fault', 'tolerance of learning-based navigation systems. In 2021', '58th ACM/IEEE Design Automation Conference (DAC),', 'pp. 841–846. IEEE, 2021.', 'Wan, Z., Lele, A., Yu, B., Liu, S., Wang, Y., Reddi, V. J.,', 'Hao, C., and Raychowdhury, A. Robotic computing on', 'fpgas: Current progress, research challenges, and oppor-', 'tunities. In 2022 IEEE 4th International Conference on', 'Artificial Intelligence Circuits and Systems (AICAS), pp.', '291–295. IEEE, 2022.', 'Wang, W. and Yang, Y. Towards data-and knowledge-driven', 'artificial intelligence: A survey on neuro-symbolic com-', 'puting. arXiv preprint arXiv:2210.15889, 2022.', 'Wu, C.-J., Raghavendra, R., Gupta, U., Acun, B., Ardalani,', 'N., Maeng, K., Chang, G., Aga, F., Huang, J., Bai, C.,', 'et al. Sustainable ai: Environmental implications, chal-', 'lenges and opportunities. Proceedings of Machine Learn-', 'ing and Systems, 4:795–813, 2022.', 'Yang, Z., Ishay, A., and Lee, J. Neurasp: Embracing neural', 'networks into answer set programming. In 29th Interna-', 'tional Joint Conference on Artificial Intelligence (IJCAI', '2020), 2020.', 'Yi, K., Wu, J., Gan, C., Torralba, A., Kohli, P., and Tenen-', 'baum, J. Neural-symbolic vqa: Disentangling reasoning', 'from vision and language understanding. Advances in', 'neural information processing systems, 31, 2018.', 'Yi, K., Gan, C., Li, Y., Kohli, P., Wu, J., Torralba, A.,', 'and Tenenbaum, J. B. Clevrer: Collision events for video', 'representation and reasoning. In International Conference', 'on Learning Representations, 2020.', 'Zhang, C., Gao, F., Jia, B., Zhu, Y., and Zhu, S.-C. Raven:', 'A dataset for relational and analogical visual reasoning.', 'In Proceedings of the IEEE/CVF conference on computer', 'vision and pattern recognition, pp. 5317–5327, 2019.', 'Zhang, H. and Yu, T. Alphazero. Deep Reinforcement', 'Learning: Fundamentals, Research and Applications, pp.', '391–415, 2020.']})\n"
     ]
    }
   ],
   "source": [
    "section_chunks = split_chunks_by_title(lines, title_indices)  # 3. 按标题拆分\n",
    "print(section_chunks)"
   ]
  },
  {
   "cell_type": "code",
   "execution_count": 85,
   "metadata": {},
   "outputs": [
    {
     "name": "stdout",
     "output_type": "stream",
     "text": [
      "['TOWARDS COGNITIVE AI SYSTEMS: A SURVEY AND PROSPECTIVE ON', 'NEURO-SYMBOLIC AI', 'Zishen Wan 1 Che-Kai Liu * 1 Hanchen Yang * 1 Chaojian Li * 1 Haoran You * 1 Yonggan Fu 1 Cheng Wan 1', 'Tushar Krishna 1 Yingyan (Celine) Lin 1 Arijit Raychowdhury 1']\n"
     ]
    }
   ],
   "source": [
    "# 获取 Abstract 之前的所有内容（作为作者信息）\n",
    "abstract_index = title_indices.get(\"abstract\", None)  # 获取 Abstract 标题的索引\n",
    "if abstract_index is not None:\n",
    "    author_info_lines = lines[:abstract_index]  # 从文档开头到 Abstract 之前的所有行\n",
    "else:\n",
    "    author_info_lines = lines[:10]  # 兜底逻辑，取前10行作为作者信息\n",
    "print(author_info_lines)"
   ]
  },
  {
   "cell_type": "code",
   "execution_count": 86,
   "metadata": {},
   "outputs": [],
   "source": [
    "def split_text_with_titles(section_chunks, max_line_per_chunk=25, overlap_lines=5):\n",
    "    \"\"\"\n",
    "    按 Section 拆分文本，并进行 Chunk 切分，考虑标题标记、最大行数和重叠行数。\n",
    "\n",
    "    :param section_chunks: dict, 以 section title 为 key，存储对应的文本行\n",
    "    :param max_line_per_chunk: int, 每个 chunk 最大行数\n",
    "    :param overlap_lines: int, 允许的上下文重叠行数\n",
    "    :return: List[str]，每个 chunk 作为字符串存入列表\n",
    "    \"\"\"\n",
    "    text_chunks = []\n",
    "    \n",
    "    for section, content_lines in section_chunks.items():\n",
    "        print(f'=debug=processing section: {section}, with line amount: {len(content_lines)}\\n')\n",
    "        if section in {\"authors\", \"acknowledgments\",\"references\",\"appendix\"}:  # 跳过作者, 感谢，附录和参考文献， 只提取正文，用于RAG \n",
    "            print(\"=debug=skiped\")\n",
    "            continue  \n",
    "        \n",
    "        current_chunk = []\n",
    "        for i, line in enumerate(content_lines):\n",
    "            current_chunk.append(line)\n",
    "\n",
    "            # 当达到 max_line_per_chunk 时，存储当前 chunk，并留出 overlap\n",
    "            if len(current_chunk) >= max_line_per_chunk or i == len(content_lines) - 1:\n",
    "                text_chunks.append(\"\\n\".join(current_chunk).strip())\n",
    "\n",
    "                # 重叠部分：保留最后 overlap_lines 行作为下一个 chunk 的起点\n",
    "                current_chunk = current_chunk[-overlap_lines:] if overlap_lines > 0 else []\n",
    "    \n",
    "    return text_chunks"
   ]
  },
  {
   "cell_type": "code",
   "execution_count": 87,
   "metadata": {},
   "outputs": [
    {
     "name": "stdout",
     "output_type": "stream",
     "text": [
      "=debug=processing section: abstract, with line amount: 11\n",
      "\n",
      "=debug=processing section: introduction, with line amount: 529\n",
      "\n",
      "=debug=processing section: conclusion, with line amount: 8\n",
      "\n",
      "=debug=processing section: acknowledgments, with line amount: 5\n",
      "\n",
      "=debug=skiped\n",
      "=debug=processing section: references, with line amount: 155\n",
      "\n",
      "=debug=skiped\n",
      "29\n",
      "['ABSTRACT\\nThe remarkable advancements in artificial intelligence (AI), primarily driven by deep neural networks, have\\nsignificantly impacted various aspects of our lives. However, the current challenges surrounding unsustainable\\ncomputational trajectories, limited robustness, and a lack of explainability call for the development of next-\\ngeneration AI systems. Neuro-symbolic AI (NSAI) emerges as a promising paradigm, fusing neural, symbolic,\\nand probabilistic approaches to enhance interpretability, robustness, and trustworthiness while facilitating learning\\nfrom much less data. Recent NSAI systems have demonstrated great potential in collaborative human-AI scenarios\\nwith reasoning and cognitive capabilities. In this paper, we provide a systematic review of recent progress in\\nNSAI and analyze the performance characteristics and computational operators of NSAI models. Furthermore, we\\ndiscuss the challenges and potential future directions of NSAI from both system and architectural perspectives.\\n1', 'INTRODUCTION\\nRemarkable advancements in artificial intelligence (AI)\\nhave had a profound impact on our lives and numerous\\nindustries. These advancements are primarily driven by\\ndeep neural networks (DNN) and a virtuous cycle involving\\nlarge networks, extensive datasets, and augmented comput-\\ning power. As we reap the benefits of this success, there is\\ngrowing evidence that continuing our current trajectory may\\nnot be viable for realizing AI’s full potential. First, the esca-\\nlating computational requirements and energy consumption\\nassociated with AI are on an unsustainable trajectory (Wu\\net al., 2022), threatening to reach a level that could stifle\\ninnovation by restricting it to a select few organizations.\\nSecond, the lack of robustness and explainability remains\\na significant challenge, likely due to inherent limitations in\\ncurrent learning methodologies (Wan et al., 2021; Dwivedi\\net al., 2023). Third, contemporary AI systems mostly oper-\\nate in isolation, with limited collaboration between humans\\nand AI agents. Hence, it is imperative to develop next-\\ngeneration AI paradigms that address the growing demand\\nfor efficiency, explainability, and trust in AI systems.\\nNeuro-symbolic AI (NSAI) represents an emerging AI\\nparadigm that integrates neural, symbolic, and probabilistic\\napproaches to enhance explainability, robustness, and enable\\n*Equal contribution']\n"
     ]
    }
   ],
   "source": [
    "processed_chunks = split_text_with_titles(section_chunks,25,5)\n",
    "print(len(processed_chunks))\n",
    "print(processed_chunks[0:2])"
   ]
  },
  {
   "cell_type": "code",
   "execution_count": 88,
   "metadata": {},
   "outputs": [
    {
     "name": "stdout",
     "output_type": "stream",
     "text": [
      "[-0.22683027386665344, 2.156106948852539, -2.4321091175079346, -0.5241323113441467, 0.8876791000366211, -0.35857242345809937, 0.8799885511398315, -0.10043108463287354, -1.159690499305725, 1.3548728227615356, 0.4510385990142822, 0.6308646202087402, 1.4287934303283691, 1.0604209899902344, -0.1210523322224617, 0.27044039964675903, -0.630506157875061, 0.7107692360877991, -0.007955603301525116, 0.09365356713533401, -0.5294976830482483, -0.2874680161476135, -0.3762367367744446, -0.31868690252304077, 1.6617238521575928, -0.3259769678115845, -0.09007053822278976, -0.14662739634513855, -0.2622408866882324, 0.12540549039840698, 1.2255455255508423, 0.10081381350755692, 0.287771999835968, -0.7269757390022278, -1.1665589809417725, -0.4588192403316498, 0.014281193725764751, -0.314519464969635, 0.635515570640564, 0.8069763779640198, -0.2747404873371124, 0.6089200973510742, -0.5188892483711243, -0.6254041194915771, 0.08473111689090729, 0.18313245475292206, 0.8017299771308899, -0.8238663077354431, 0.7285605072975159, -0.8560664653778076, -0.314054936170578, -0.4295714199542999, -0.4180704653263092, 0.6509593725204468, 1.6961321830749512, 0.5271489024162292, 0.09186457842588425, -0.16161346435546875, -0.33218228816986084, -0.9145509004592896, 1.7828898429870605, 1.1848969459533691, -0.2021096795797348, 0.9682319760322571, 0.5740056037902832, -0.060463689267635345, -0.9090405106544495, 1.165460467338562, 0.6550561189651489, -0.339377224445343, -0.24393875896930695, -0.7490284442901611, 0.9620404839515686, 0.876057505607605, -0.2432384043931961, -0.03474823385477066, -0.16276481747627258, -0.4022202491760254, 0.41608673334121704, 1.2119989395141602, 0.5271962881088257, -1.0492149591445923, 1.0485270023345947, -0.45838820934295654, -0.3381490111351013, 0.12939409911632538, -0.49218159914016724, -0.559273898601532, -0.8382704854011536, 1.8709461688995361, -0.2064105123281479, 0.6846723556518555, -0.07533808052539825, -0.13504822552204132, 0.28616005182266235, 0.40179741382598877, -0.7960476279258728, 0.005076871253550053, -1.1918128728866577, -0.13380977511405945, -1.0555102825164795, 0.10612605512142181, -0.3332342207431793, -1.2543601989746094, 0.618232011795044, -0.13461706042289734, -0.11903776228427887, 0.1498400717973709, -0.8573496341705322, 0.9553164839744568, -0.2151411771774292, 0.45829150080680847, 0.34592339396476746, 0.10256179422140121, -0.16999995708465576, -0.8442121744155884, -0.08071938902139664, -0.14474239945411682, -0.07550442218780518, 0.8540639281272888, -0.10217273980379105, -0.5588977336883545, 0.8750861883163452, 0.10537540912628174, -0.5035360455513, 0.7952749133110046, -1.0511106252670288, -0.26235049962997437, -0.6611324548721313, -0.9072238206863403, -0.12625136971473694, -0.13106371462345123, 0.17796650528907776, 0.7019026279449463, -0.33182284235954285, 1.915047287940979, -0.6070196628570557, -0.7357715964317322, 0.28855928778648376, 0.28524965047836304, 0.9395790696144104, -0.41501620411872864, -0.48742273449897766, -0.613884687423706, 0.5826690793037415, -1.2330063581466675, 0.0020719319581985474, 0.20716489851474762, -1.1612290143966675, -0.21910853683948517, -0.24066434800624847, 0.4475119411945343, -0.947283923625946, -0.36402639746665955, 0.5027499198913574, 0.33939987421035767, -0.5566670894622803, 0.6609394550323486, -0.010831065475940704, -0.5036070942878723, 1.29262375831604, -0.05707068368792534, -0.09655755758285522, 0.6202675104141235, 0.016209619119763374, -0.485236257314682, 0.8217709064483643, -0.15461237728595734, 0.6968177556991577, 0.5562866926193237, -1.4530173540115356, -0.5504586696624756, -0.23322488367557526, 0.06429065763950348, 0.9633643627166748, -0.5057716965675354, 0.5061591863632202, -0.16075217723846436, -0.10244382172822952, 0.41123512387275696, 0.3814000189304352, -1.1761478185653687, 0.4647301137447357, -0.04040815681219101, -0.7594861388206482, -0.07330932468175888, -0.6686723828315735, 1.2809298038482666, 0.35619911551475525, -0.9120581150054932, 0.25873517990112305, -0.20664316415786743, -0.8197600841522217, -0.15021327137947083, -0.6484132409095764, -0.40342456102371216, 0.2887347340583801, -0.6849163770675659, 1.1766959428787231, -0.25181829929351807, -0.3848121762275696, -0.07508532702922821, -0.9224540591239929, 0.2539726197719574, -0.5118987560272217, 0.22703608870506287, 0.33764564990997314, -0.04493743181228638, -0.6912488341331482, -0.33613884449005127, 0.7393824458122253, 0.11603158712387085, 0.7205247282981873, -0.07371138036251068, 0.5493537187576294, -0.3556303083896637, 0.4460114538669586, -0.9635007381439209, -0.0889488160610199, -0.23220521211624146, 0.6126514673233032, -0.5758824348449707, 0.4834910035133362, 0.21931473910808563, -0.30897200107574463, -0.19375112652778625, -0.7643207311630249, 0.19482965767383575, -0.6408478021621704, 0.7246599197387695, -0.5734105110168457, 0.029637902975082397, 1.1961508989334106, 0.5717792510986328, 0.7489169239997864, 1.1996548175811768, 1.0635643005371094, 0.7112157344818115, 0.5737992525100708, 0.43990665674209595, -0.2308168113231659, 0.5346221923828125, -0.48943570256233215, 0.9010024070739746, -0.6498551368713379, -0.8735536932945251, -0.8525733351707458, -1.2097969055175781, -0.7263067364692688, 1.019949197769165, -1.1181633472442627, -0.5292410850524902, -0.33729633688926697, -0.23809415102005005, 0.46109098196029663, 0.31036514043807983, -0.3021818995475769, 0.35439518094062805, 1.1479204893112183, -0.12817668914794922, 0.829298734664917, -0.17676138877868652, -0.28970563411712646, 0.587195098400116, 0.785236656665802, -0.4102213978767395, 0.20558308064937592, -0.7160238027572632, 0.20216144621372223, -0.47613829374313354, 0.478870153427124, 0.7660871744155884, 0.5226453542709351, -0.17219778895378113, 0.6738026738166809, 0.16800524294376373, -0.41314995288848877, 0.030767448246479034, -0.00470702862367034, 0.7277191281318665, -1.1187399625778198, -0.49283891916275024, -0.7956458330154419, -0.008859876543283463, -0.27162444591522217, 0.14267529547214508, 0.13594578206539154, 0.8025633096694946, 0.07219060510396957, 0.3139415979385376, 0.6197348237037659, 0.27991876006126404, -1.132924199104309, -0.7437679767608643, -1.5571662187576294, 0.6909607648849487, 0.6583055257797241, -0.33021533489227295, 1.0901763439178467, -0.22614988684654236, 0.5753021836280823, 0.3124966323375702, 1.2077524662017822, 0.8230283260345459, -0.0652507096529007, -0.34455928206443787, -0.5897175669670105, 0.05544015392661095, 0.9096875786781311, 0.0475335419178009, -1.0998653173446655, 0.17569556832313538, 0.05614674091339111, -0.4523903727531433, 0.27262842655181885, 0.40976351499557495, 0.2965281903743744, 0.751302182674408, 0.24530529975891113, -0.365493506193161, 0.10857230424880981, -1.0086193084716797, -0.6105690598487854, 0.272790789604187, 0.07871918380260468, 1.009710431098938, -0.3296312987804413, 0.8663181662559509, -0.49819791316986084, -0.5143377780914307, 0.8126544952392578, -0.08676884323358536, 1.3310304880142212, -0.08268272131681442, -0.7522755861282349, -0.42230984568595886, 0.2121029794216156, -0.09875820577144623, 0.2384781837463379, 0.4326716959476471, 0.6766421794891357, -1.0262227058410645, 1.2159347534179688, -0.3184846043586731, -0.7481837272644043, 0.31142133474349976, -0.09196088463068008, 0.01697058603167534, 0.3510935604572296, 0.08802638947963715, -0.5098797678947449, 0.2803551256656647, -0.2960112392902374, -0.3370465338230133, 0.9197426438331604, -0.15100111067295074, 0.3776780962944031, 0.6597179174423218, 0.12054836750030518, 0.21834591031074524, 1.0020838975906372, -0.0419788658618927, -0.5263351202011108, 0.11147306114435196, -0.4730977416038513, 0.3556985557079315, 0.6833643317222595, 0.3287292420864105, -0.24129842221736908, -0.1053226962685585, 0.5659048557281494, 0.158047154545784, -0.6822084784507751, 0.26982417702674866, -0.7890709638595581, 0.7055871486663818, -1.0943056344985962, -1.0599898099899292, 0.3493155539035797, -0.34812119603157043, -0.5787076950073242, -0.2613033056259155, -0.11436448246240616, -0.4197908341884613, 1.0553596019744873, 0.4366433918476105, -0.06933313608169556, -0.9566571712493896, -0.5885440111160278, -0.5930277109146118, -0.2914651036262512, -0.10066088289022446, -1.2191802263259888, -0.4622258245944977, 1.2038952112197876, -0.6420537233352661, -0.008865618146955967, 0.349065899848938, -0.40930524468421936, -0.015159574337303638, -1.1404614448547363, -1.1524078845977783, -0.07243900746107101, -0.062310125678777695, 0.26218006014823914, -0.9819867014884949, -0.7658916115760803, 0.36285415291786194, 0.7199610471725464, 0.34304383397102356, 0.9239001274108887, 1.0331617593765259, 0.09172871708869934, -1.4336936473846436, 0.8342665433883667, 0.2225429266691208, 0.2667725086212158, 0.433607280254364, -0.3401448130607605, -0.004904984496533871, 0.6351010799407959, -0.006952603347599506, 0.4447357952594757, -0.19483263790607452, -0.29005929827690125, -0.1467713564634323, -0.15507598221302032, 1.136780023574829, -0.03355732932686806, -0.10195305198431015, 0.6352154612541199, -0.0034811836667358875, 0.7217411994934082, -0.16843277215957642, 0.0533718578517437, 0.2645966410636902, -0.12074840068817139, 0.9612051844596863, 0.4242471158504486, 0.7125089168548584, 0.500385582447052, -0.5548318028450012, -0.25356683135032654, -0.8013900518417358, 1.1060421466827393, 1.197831153869629, 0.926023006439209, -0.5064050555229187, -1.7547607421875, 0.916763186454773, -0.3306812047958374, 0.6645038723945618, 0.3171740770339966, 0.288470059633255, 0.764309823513031, -0.18806056678295135, 0.1411205530166626, 0.222590833902359, 0.05874243378639221, -0.029262835159897804, 0.3531809151172638, 0.5563141107559204, -1.7850114107131958, 0.24731837213039398, -0.580086886882782, 0.3683924078941345, -0.08006346970796585, -0.9753474593162537, 1.7298692464828491, 0.99683678150177, 0.3647238612174988, 0.43463820219039917, 0.7031510472297668, -1.1738089323043823, -0.6800154447555542, -0.37030187249183655, 0.033976633101701736, -0.41951504349708557, 0.4579824209213257, 0.9538462162017822, -0.2157866507768631, -0.6189349293708801, -0.5442073941230774, -0.420897901058197, -0.26014164090156555, 1.1802340745925903, -0.30361858010292053, -0.23832491040229797, -0.455777645111084, -0.2466106116771698, 0.9063689112663269, -0.7585631012916565, -0.04039094224572182, -0.29649364948272705, -1.3285903930664062, -1.3414709568023682, -0.7196860909461975, 0.9207645654678345, 0.2753755748271942, 0.4901201128959656, -0.5407958030700684, 1.2713569402694702, -0.2951054573059082, -0.27613478899002075, 0.38166534900665283, 0.06019764393568039, 0.5381985306739807, -2.0689005851745605, -1.0925941467285156, 1.7602946758270264, -0.07112488895654678, -0.2958257794380188, -0.14763818681240082, -0.22590577602386475, -0.21919026970863342, -0.352397620677948, 1.0685197114944458, -0.4271944761276245, -1.1961511373519897, 0.10114272683858871, 0.31577154994010925, -0.16755357384681702, -0.005475037731230259, -0.7622898817062378, -1.853754997253418, 0.14349466562271118, 0.7290905117988586, -0.9245699048042297, 0.6221969127655029, -0.039660658687353134, 0.3346889615058899, 0.2820422351360321, -1.3363250494003296, 0.18658232688903809, 0.062310028821229935, -0.1395728588104248, -0.2949818968772888, -0.6079920530319214, 0.6063042283058167, 1.0054736137390137, 1.2533880472183228, 0.9305845499038696, 0.0786016657948494, -0.15080398321151733, -0.7350439429283142, 0.48370033502578735, -0.18610364198684692, 1.1808269023895264, -0.987585186958313, -1.5206255912780762, 0.26328977942466736, -1.0686191320419312, -0.07324115186929703, -0.14431479573249817, 0.9360625147819519, -0.4311373233795166, -1.0040409564971924, -0.5433374047279358, 0.412712037563324, 0.10013030469417572, -0.2131863385438919, -0.41913482546806335, 0.9036154747009277, 0.18730168044567108, -0.15070421993732452, -0.0070711346343159676, -0.18496212363243103, 0.0135909803211689, -0.2585819363594055, 1.5229010581970215, 1.548152208328247, -0.6758739352226257, -0.7003327012062073, 0.35307666659355164, -0.1327202320098877, -1.3104007244110107, 0.18941570818424225, -0.9851967096328735, -0.642396867275238, -0.9923122525215149, 0.31975358724594116, -1.21132493019104, 0.48151472210884094, 0.37890517711639404, 0.4827719032764435, 0.1067364439368248, -0.6827277541160583, -0.254938006401062, 0.8161075711250305, -0.008360692299902439, -0.771949291229248, -0.619549572467804, 0.3656396269798279, -1.2392319440841675, -1.0594745874404907, 0.38169777393341064, 0.669227659702301, -0.8827786445617676, -1.006218671798706, -1.1045953035354614, -0.20862515270709991, -0.33419370651245117, 1.0581154823303223, -0.762621283531189, 0.5133134126663208, 1.6455799341201782, -0.13816000521183014, 1.2799468040466309, 0.1224047914147377, -0.5451235771179199, -0.041344933211803436, 0.31690919399261475, 0.17716853320598602, 0.5273303389549255, 1.1518300771713257, -0.10572798550128937, 1.9426801204681396, -0.7798388004302979, -1.433935523033142, 0.6535053253173828, -0.15612101554870605, -1.1670067310333252, 0.19413194060325623, -0.7485178112983704, -0.164017453789711, -0.7161876559257507, -0.4129559099674225, -0.6370114088058472, 0.08162447065114975, 1.632397174835205, -0.8334373235702515, 0.03224065899848938, 0.38584277033805847, 0.3883514702320099, -0.538562536239624, -0.6240049004554749, -0.3556581139564514, 0.4922657907009125, 0.5456854701042175, 0.4588749408721924, 0.108783058822155, -0.5813178420066833, -0.6490993499755859, 0.7469432950019836, 1.022517204284668, -1.1290085315704346, 0.9520871639251709, 1.3874088525772095, -0.002716370392590761, -0.31191980838775635, 1.291656494140625, 1.158031702041626, 0.25886520743370056, -0.22953259944915771, -0.9740544557571411, -0.21489684283733368, -0.12321232259273529, -0.395151823759079, -0.0572371743619442, -0.3533347249031067, 0.5935771465301514, 0.8350221514701843, -0.7011792659759521, 0.08159781247377396, 0.01547320932149887, -1.135998249053955, -0.1760605424642563, 0.04265182465314865, -0.21916057169437408, -0.3125603497028351, 1.146349310874939, -0.30435243248939514, -0.49176427721977234, -0.8715707063674927, -0.09697511047124863, 0.5344226956367493, 0.47210824489593506, -0.12824858725070953, 0.32008466124534607, -0.09641218930482864, 0.6281410455703735, -0.8791933655738831, 0.77413409948349, -0.8937968611717224, -0.27494025230407715, 0.22887460887432098, 0.6686890125274658, 0.4466456472873688, -1.3561906814575195, -0.9111814498901367, -0.026600448414683342, -0.33610305190086365, -0.055631205439567566, 0.24434158205986023, 0.060480616986751556, 0.5990781188011169, -0.6093173027038574, 0.5783959031105042, 0.8150575757026672, 1.3252137899398804, -0.6364807486534119, 0.7198482155799866, 0.20040957629680634, 0.6887667775154114, 0.04227800294756889, -0.7338525056838989, -0.35938987135887146, 0.25192537903785706, 0.18551382422447205, -0.03749796003103256, -0.2743070721626282, 0.7985687851905823, -1.1299490928649902, 1.0960763692855835, -0.1162804663181305, -0.02382487989962101, -0.42819392681121826, -1.4748250246047974, -0.3223269581794739, 0.6768985986709595, 0.8191350102424622, -0.6334744095802307, -1.249801754951477, 0.3347829580307007, -0.7256393432617188, -0.34819331765174866, 0.47573089599609375, -0.38915780186653137, 0.31035947799682617, 0.005920308642089367, 0.28253594040870667, -0.9047181606292725, -1.071681022644043, 0.7630152106285095, -0.08191376179456711, 0.4251532554626465, -1.0052577257156372, -0.5518898963928223, -0.29665982723236084, -0.37871938943862915, 0.44797390699386597, 0.7076091170310974, 0.1457453966140747, -0.5497758388519287, 0.17019350826740265, -0.138985276222229, -0.5342788100242615, 0.703856885433197, -0.21214881539344788, -0.6418874859809875, 0.737729012966156, -0.4437393248081207, -0.6402902603149414, 0.18651363253593445, 0.17023494839668274, 0.9416847229003906, -0.6237461566925049, 0.9336254596710205, 2.5801925659179688, 0.20520547032356262, 0.8784317374229431, -1.4846326112747192, 0.5471681356430054, -0.6279280185699463, -1.1630191802978516, 0.16622929275035858, -0.39883747696876526, 0.16006402671337128]\n",
      "768\n"
     ]
    }
   ],
   "source": [
    "import json\n",
    "from ollama import Client\n",
    "\n",
    "# 初始化 Ollama 客户端，确保连接到本地 Ollama 服务器\n",
    "client = Client(host='http://localhost:11434')\n",
    "\n",
    "# 3. 生成嵌入向量（调用 Ollama）\n",
    "def get_embedding(text):\n",
    "    response = client.embeddings(model='nomic-embed-text', prompt=text)\n",
    "    return response.get('embedding', [])\n",
    "\n",
    "# 4. 生成 {原文: 向量} 字典\n",
    "embeddings_list =[]\n",
    "for chunk in processed_chunks:\n",
    "    embeddings_list.append([chunk, get_embedding(chunk)])\n",
    "\n",
    "print(embeddings_list[0][1])\n",
    "print(len(embeddings_list[0][1]))"
   ]
  },
  {
   "cell_type": "code",
   "execution_count": 89,
   "metadata": {},
   "outputs": [
    {
     "name": "stdout",
     "output_type": "stream",
     "text": [
      "29\n",
      "29\n",
      "ABSTRACT\n",
      "The remarkable advancements in artificial intelligence (AI), primarily driven by deep neural networks, have\n",
      "significantly impacted various aspects of our lives. However, the current challenges surrounding unsustainable\n",
      "computational trajectories, limited robustness, and a lack of explainability call for the development of next-\n",
      "generation AI systems. Neuro-symbolic AI (NSAI) emerges as a promising paradigm, fusing neural, symbolic,\n",
      "and probabilistic approaches to enhance interpretability, robustness, and trustworthiness while facilitating learning\n",
      "from much less data. Recent NSAI systems have demonstrated great potential in collaborative human-AI scenarios\n",
      "with reasoning and cognitive capabilities. In this paper, we provide a systematic review of recent progress in\n",
      "NSAI and analyze the performance characteristics and computational operators of NSAI models. Furthermore, we\n",
      "discuss the challenges and potential future directions of NSAI from both system and architectural perspectives.\n",
      "1\n",
      "[-0.22683027386665344, 2.156106948852539, -2.4321091175079346, -0.5241323113441467, 0.8876791000366211, -0.35857242345809937, 0.8799885511398315, -0.10043108463287354, -1.159690499305725, 1.3548728227615356, 0.4510385990142822, 0.6308646202087402, 1.4287934303283691, 1.0604209899902344, -0.1210523322224617, 0.27044039964675903, -0.630506157875061, 0.7107692360877991, -0.007955603301525116, 0.09365356713533401, -0.5294976830482483, -0.2874680161476135, -0.3762367367744446, -0.31868690252304077, 1.6617238521575928, -0.3259769678115845, -0.09007053822278976, -0.14662739634513855, -0.2622408866882324, 0.12540549039840698, 1.2255455255508423, 0.10081381350755692, 0.287771999835968, -0.7269757390022278, -1.1665589809417725, -0.4588192403316498, 0.014281193725764751, -0.314519464969635, 0.635515570640564, 0.8069763779640198, -0.2747404873371124, 0.6089200973510742, -0.5188892483711243, -0.6254041194915771, 0.08473111689090729, 0.18313245475292206, 0.8017299771308899, -0.8238663077354431, 0.7285605072975159, -0.8560664653778076, -0.314054936170578, -0.4295714199542999, -0.4180704653263092, 0.6509593725204468, 1.6961321830749512, 0.5271489024162292, 0.09186457842588425, -0.16161346435546875, -0.33218228816986084, -0.9145509004592896, 1.7828898429870605, 1.1848969459533691, -0.2021096795797348, 0.9682319760322571, 0.5740056037902832, -0.060463689267635345, -0.9090405106544495, 1.165460467338562, 0.6550561189651489, -0.339377224445343, -0.24393875896930695, -0.7490284442901611, 0.9620404839515686, 0.876057505607605, -0.2432384043931961, -0.03474823385477066, -0.16276481747627258, -0.4022202491760254, 0.41608673334121704, 1.2119989395141602, 0.5271962881088257, -1.0492149591445923, 1.0485270023345947, -0.45838820934295654, -0.3381490111351013, 0.12939409911632538, -0.49218159914016724, -0.559273898601532, -0.8382704854011536, 1.8709461688995361, -0.2064105123281479, 0.6846723556518555, -0.07533808052539825, -0.13504822552204132, 0.28616005182266235, 0.40179741382598877, -0.7960476279258728, 0.005076871253550053, -1.1918128728866577, -0.13380977511405945, -1.0555102825164795, 0.10612605512142181, -0.3332342207431793, -1.2543601989746094, 0.618232011795044, -0.13461706042289734, -0.11903776228427887, 0.1498400717973709, -0.8573496341705322, 0.9553164839744568, -0.2151411771774292, 0.45829150080680847, 0.34592339396476746, 0.10256179422140121, -0.16999995708465576, -0.8442121744155884, -0.08071938902139664, -0.14474239945411682, -0.07550442218780518, 0.8540639281272888, -0.10217273980379105, -0.5588977336883545, 0.8750861883163452, 0.10537540912628174, -0.5035360455513, 0.7952749133110046, -1.0511106252670288, -0.26235049962997437, -0.6611324548721313, -0.9072238206863403, -0.12625136971473694, -0.13106371462345123, 0.17796650528907776, 0.7019026279449463, -0.33182284235954285, 1.915047287940979, -0.6070196628570557, -0.7357715964317322, 0.28855928778648376, 0.28524965047836304, 0.9395790696144104, -0.41501620411872864, -0.48742273449897766, -0.613884687423706, 0.5826690793037415, -1.2330063581466675, 0.0020719319581985474, 0.20716489851474762, -1.1612290143966675, -0.21910853683948517, -0.24066434800624847, 0.4475119411945343, -0.947283923625946, -0.36402639746665955, 0.5027499198913574, 0.33939987421035767, -0.5566670894622803, 0.6609394550323486, -0.010831065475940704, -0.5036070942878723, 1.29262375831604, -0.05707068368792534, -0.09655755758285522, 0.6202675104141235, 0.016209619119763374, -0.485236257314682, 0.8217709064483643, -0.15461237728595734, 0.6968177556991577, 0.5562866926193237, -1.4530173540115356, -0.5504586696624756, -0.23322488367557526, 0.06429065763950348, 0.9633643627166748, -0.5057716965675354, 0.5061591863632202, -0.16075217723846436, -0.10244382172822952, 0.41123512387275696, 0.3814000189304352, -1.1761478185653687, 0.4647301137447357, -0.04040815681219101, -0.7594861388206482, -0.07330932468175888, -0.6686723828315735, 1.2809298038482666, 0.35619911551475525, -0.9120581150054932, 0.25873517990112305, -0.20664316415786743, -0.8197600841522217, -0.15021327137947083, -0.6484132409095764, -0.40342456102371216, 0.2887347340583801, -0.6849163770675659, 1.1766959428787231, -0.25181829929351807, -0.3848121762275696, -0.07508532702922821, -0.9224540591239929, 0.2539726197719574, -0.5118987560272217, 0.22703608870506287, 0.33764564990997314, -0.04493743181228638, -0.6912488341331482, -0.33613884449005127, 0.7393824458122253, 0.11603158712387085, 0.7205247282981873, -0.07371138036251068, 0.5493537187576294, -0.3556303083896637, 0.4460114538669586, -0.9635007381439209, -0.0889488160610199, -0.23220521211624146, 0.6126514673233032, -0.5758824348449707, 0.4834910035133362, 0.21931473910808563, -0.30897200107574463, -0.19375112652778625, -0.7643207311630249, 0.19482965767383575, -0.6408478021621704, 0.7246599197387695, -0.5734105110168457, 0.029637902975082397, 1.1961508989334106, 0.5717792510986328, 0.7489169239997864, 1.1996548175811768, 1.0635643005371094, 0.7112157344818115, 0.5737992525100708, 0.43990665674209595, -0.2308168113231659, 0.5346221923828125, -0.48943570256233215, 0.9010024070739746, -0.6498551368713379, -0.8735536932945251, -0.8525733351707458, -1.2097969055175781, -0.7263067364692688, 1.019949197769165, -1.1181633472442627, -0.5292410850524902, -0.33729633688926697, -0.23809415102005005, 0.46109098196029663, 0.31036514043807983, -0.3021818995475769, 0.35439518094062805, 1.1479204893112183, -0.12817668914794922, 0.829298734664917, -0.17676138877868652, -0.28970563411712646, 0.587195098400116, 0.785236656665802, -0.4102213978767395, 0.20558308064937592, -0.7160238027572632, 0.20216144621372223, -0.47613829374313354, 0.478870153427124, 0.7660871744155884, 0.5226453542709351, -0.17219778895378113, 0.6738026738166809, 0.16800524294376373, -0.41314995288848877, 0.030767448246479034, -0.00470702862367034, 0.7277191281318665, -1.1187399625778198, -0.49283891916275024, -0.7956458330154419, -0.008859876543283463, -0.27162444591522217, 0.14267529547214508, 0.13594578206539154, 0.8025633096694946, 0.07219060510396957, 0.3139415979385376, 0.6197348237037659, 0.27991876006126404, -1.132924199104309, -0.7437679767608643, -1.5571662187576294, 0.6909607648849487, 0.6583055257797241, -0.33021533489227295, 1.0901763439178467, -0.22614988684654236, 0.5753021836280823, 0.3124966323375702, 1.2077524662017822, 0.8230283260345459, -0.0652507096529007, -0.34455928206443787, -0.5897175669670105, 0.05544015392661095, 0.9096875786781311, 0.0475335419178009, -1.0998653173446655, 0.17569556832313538, 0.05614674091339111, -0.4523903727531433, 0.27262842655181885, 0.40976351499557495, 0.2965281903743744, 0.751302182674408, 0.24530529975891113, -0.365493506193161, 0.10857230424880981, -1.0086193084716797, -0.6105690598487854, 0.272790789604187, 0.07871918380260468, 1.009710431098938, -0.3296312987804413, 0.8663181662559509, -0.49819791316986084, -0.5143377780914307, 0.8126544952392578, -0.08676884323358536, 1.3310304880142212, -0.08268272131681442, -0.7522755861282349, -0.42230984568595886, 0.2121029794216156, -0.09875820577144623, 0.2384781837463379, 0.4326716959476471, 0.6766421794891357, -1.0262227058410645, 1.2159347534179688, -0.3184846043586731, -0.7481837272644043, 0.31142133474349976, -0.09196088463068008, 0.01697058603167534, 0.3510935604572296, 0.08802638947963715, -0.5098797678947449, 0.2803551256656647, -0.2960112392902374, -0.3370465338230133, 0.9197426438331604, -0.15100111067295074, 0.3776780962944031, 0.6597179174423218, 0.12054836750030518, 0.21834591031074524, 1.0020838975906372, -0.0419788658618927, -0.5263351202011108, 0.11147306114435196, -0.4730977416038513, 0.3556985557079315, 0.6833643317222595, 0.3287292420864105, -0.24129842221736908, -0.1053226962685585, 0.5659048557281494, 0.158047154545784, -0.6822084784507751, 0.26982417702674866, -0.7890709638595581, 0.7055871486663818, -1.0943056344985962, -1.0599898099899292, 0.3493155539035797, -0.34812119603157043, -0.5787076950073242, -0.2613033056259155, -0.11436448246240616, -0.4197908341884613, 1.0553596019744873, 0.4366433918476105, -0.06933313608169556, -0.9566571712493896, -0.5885440111160278, -0.5930277109146118, -0.2914651036262512, -0.10066088289022446, -1.2191802263259888, -0.4622258245944977, 1.2038952112197876, -0.6420537233352661, -0.008865618146955967, 0.349065899848938, -0.40930524468421936, -0.015159574337303638, -1.1404614448547363, -1.1524078845977783, -0.07243900746107101, -0.062310125678777695, 0.26218006014823914, -0.9819867014884949, -0.7658916115760803, 0.36285415291786194, 0.7199610471725464, 0.34304383397102356, 0.9239001274108887, 1.0331617593765259, 0.09172871708869934, -1.4336936473846436, 0.8342665433883667, 0.2225429266691208, 0.2667725086212158, 0.433607280254364, -0.3401448130607605, -0.004904984496533871, 0.6351010799407959, -0.006952603347599506, 0.4447357952594757, -0.19483263790607452, -0.29005929827690125, -0.1467713564634323, -0.15507598221302032, 1.136780023574829, -0.03355732932686806, -0.10195305198431015, 0.6352154612541199, -0.0034811836667358875, 0.7217411994934082, -0.16843277215957642, 0.0533718578517437, 0.2645966410636902, -0.12074840068817139, 0.9612051844596863, 0.4242471158504486, 0.7125089168548584, 0.500385582447052, -0.5548318028450012, -0.25356683135032654, -0.8013900518417358, 1.1060421466827393, 1.197831153869629, 0.926023006439209, -0.5064050555229187, -1.7547607421875, 0.916763186454773, -0.3306812047958374, 0.6645038723945618, 0.3171740770339966, 0.288470059633255, 0.764309823513031, -0.18806056678295135, 0.1411205530166626, 0.222590833902359, 0.05874243378639221, -0.029262835159897804, 0.3531809151172638, 0.5563141107559204, -1.7850114107131958, 0.24731837213039398, -0.580086886882782, 0.3683924078941345, -0.08006346970796585, -0.9753474593162537, 1.7298692464828491, 0.99683678150177, 0.3647238612174988, 0.43463820219039917, 0.7031510472297668, -1.1738089323043823, -0.6800154447555542, -0.37030187249183655, 0.033976633101701736, -0.41951504349708557, 0.4579824209213257, 0.9538462162017822, -0.2157866507768631, -0.6189349293708801, -0.5442073941230774, -0.420897901058197, -0.26014164090156555, 1.1802340745925903, -0.30361858010292053, -0.23832491040229797, -0.455777645111084, -0.2466106116771698, 0.9063689112663269, -0.7585631012916565, -0.04039094224572182, -0.29649364948272705, -1.3285903930664062, -1.3414709568023682, -0.7196860909461975, 0.9207645654678345, 0.2753755748271942, 0.4901201128959656, -0.5407958030700684, 1.2713569402694702, -0.2951054573059082, -0.27613478899002075, 0.38166534900665283, 0.06019764393568039, 0.5381985306739807, -2.0689005851745605, -1.0925941467285156, 1.7602946758270264, -0.07112488895654678, -0.2958257794380188, -0.14763818681240082, -0.22590577602386475, -0.21919026970863342, -0.352397620677948, 1.0685197114944458, -0.4271944761276245, -1.1961511373519897, 0.10114272683858871, 0.31577154994010925, -0.16755357384681702, -0.005475037731230259, -0.7622898817062378, -1.853754997253418, 0.14349466562271118, 0.7290905117988586, -0.9245699048042297, 0.6221969127655029, -0.039660658687353134, 0.3346889615058899, 0.2820422351360321, -1.3363250494003296, 0.18658232688903809, 0.062310028821229935, -0.1395728588104248, -0.2949818968772888, -0.6079920530319214, 0.6063042283058167, 1.0054736137390137, 1.2533880472183228, 0.9305845499038696, 0.0786016657948494, -0.15080398321151733, -0.7350439429283142, 0.48370033502578735, -0.18610364198684692, 1.1808269023895264, -0.987585186958313, -1.5206255912780762, 0.26328977942466736, -1.0686191320419312, -0.07324115186929703, -0.14431479573249817, 0.9360625147819519, -0.4311373233795166, -1.0040409564971924, -0.5433374047279358, 0.412712037563324, 0.10013030469417572, -0.2131863385438919, -0.41913482546806335, 0.9036154747009277, 0.18730168044567108, -0.15070421993732452, -0.0070711346343159676, -0.18496212363243103, 0.0135909803211689, -0.2585819363594055, 1.5229010581970215, 1.548152208328247, -0.6758739352226257, -0.7003327012062073, 0.35307666659355164, -0.1327202320098877, -1.3104007244110107, 0.18941570818424225, -0.9851967096328735, -0.642396867275238, -0.9923122525215149, 0.31975358724594116, -1.21132493019104, 0.48151472210884094, 0.37890517711639404, 0.4827719032764435, 0.1067364439368248, -0.6827277541160583, -0.254938006401062, 0.8161075711250305, -0.008360692299902439, -0.771949291229248, -0.619549572467804, 0.3656396269798279, -1.2392319440841675, -1.0594745874404907, 0.38169777393341064, 0.669227659702301, -0.8827786445617676, -1.006218671798706, -1.1045953035354614, -0.20862515270709991, -0.33419370651245117, 1.0581154823303223, -0.762621283531189, 0.5133134126663208, 1.6455799341201782, -0.13816000521183014, 1.2799468040466309, 0.1224047914147377, -0.5451235771179199, -0.041344933211803436, 0.31690919399261475, 0.17716853320598602, 0.5273303389549255, 1.1518300771713257, -0.10572798550128937, 1.9426801204681396, -0.7798388004302979, -1.433935523033142, 0.6535053253173828, -0.15612101554870605, -1.1670067310333252, 0.19413194060325623, -0.7485178112983704, -0.164017453789711, -0.7161876559257507, -0.4129559099674225, -0.6370114088058472, 0.08162447065114975, 1.632397174835205, -0.8334373235702515, 0.03224065899848938, 0.38584277033805847, 0.3883514702320099, -0.538562536239624, -0.6240049004554749, -0.3556581139564514, 0.4922657907009125, 0.5456854701042175, 0.4588749408721924, 0.108783058822155, -0.5813178420066833, -0.6490993499755859, 0.7469432950019836, 1.022517204284668, -1.1290085315704346, 0.9520871639251709, 1.3874088525772095, -0.002716370392590761, -0.31191980838775635, 1.291656494140625, 1.158031702041626, 0.25886520743370056, -0.22953259944915771, -0.9740544557571411, -0.21489684283733368, -0.12321232259273529, -0.395151823759079, -0.0572371743619442, -0.3533347249031067, 0.5935771465301514, 0.8350221514701843, -0.7011792659759521, 0.08159781247377396, 0.01547320932149887, -1.135998249053955, -0.1760605424642563, 0.04265182465314865, -0.21916057169437408, -0.3125603497028351, 1.146349310874939, -0.30435243248939514, -0.49176427721977234, -0.8715707063674927, -0.09697511047124863, 0.5344226956367493, 0.47210824489593506, -0.12824858725070953, 0.32008466124534607, -0.09641218930482864, 0.6281410455703735, -0.8791933655738831, 0.77413409948349, -0.8937968611717224, -0.27494025230407715, 0.22887460887432098, 0.6686890125274658, 0.4466456472873688, -1.3561906814575195, -0.9111814498901367, -0.026600448414683342, -0.33610305190086365, -0.055631205439567566, 0.24434158205986023, 0.060480616986751556, 0.5990781188011169, -0.6093173027038574, 0.5783959031105042, 0.8150575757026672, 1.3252137899398804, -0.6364807486534119, 0.7198482155799866, 0.20040957629680634, 0.6887667775154114, 0.04227800294756889, -0.7338525056838989, -0.35938987135887146, 0.25192537903785706, 0.18551382422447205, -0.03749796003103256, -0.2743070721626282, 0.7985687851905823, -1.1299490928649902, 1.0960763692855835, -0.1162804663181305, -0.02382487989962101, -0.42819392681121826, -1.4748250246047974, -0.3223269581794739, 0.6768985986709595, 0.8191350102424622, -0.6334744095802307, -1.249801754951477, 0.3347829580307007, -0.7256393432617188, -0.34819331765174866, 0.47573089599609375, -0.38915780186653137, 0.31035947799682617, 0.005920308642089367, 0.28253594040870667, -0.9047181606292725, -1.071681022644043, 0.7630152106285095, -0.08191376179456711, 0.4251532554626465, -1.0052577257156372, -0.5518898963928223, -0.29665982723236084, -0.37871938943862915, 0.44797390699386597, 0.7076091170310974, 0.1457453966140747, -0.5497758388519287, 0.17019350826740265, -0.138985276222229, -0.5342788100242615, 0.703856885433197, -0.21214881539344788, -0.6418874859809875, 0.737729012966156, -0.4437393248081207, -0.6402902603149414, 0.18651363253593445, 0.17023494839668274, 0.9416847229003906, -0.6237461566925049, 0.9336254596710205, 2.5801925659179688, 0.20520547032356262, 0.8784317374229431, -1.4846326112747192, 0.5471681356430054, -0.6279280185699463, -1.1630191802978516, 0.16622929275035858, -0.39883747696876526, 0.16006402671337128]\n"
     ]
    }
   ],
   "source": [
    "print(len(processed_chunks))\n",
    "print(len(embeddings_list))\n",
    "print(embeddings_list[0][0])\n",
    "print(embeddings_list[0][1])"
   ]
  },
  {
   "cell_type": "code",
   "execution_count": 90,
   "metadata": {},
   "outputs": [
    {
     "name": "stderr",
     "output_type": "stream",
     "text": [
      "Creating embeddings: 100%|██████████| 29/29 [00:00<00:00, 149428.52it/s]\n"
     ]
    }
   ],
   "source": [
    "from tqdm import tqdm\n",
    "import time\n",
    "\n",
    "data = []\n",
    "arxiv_id = \"2401.01040\"\n",
    "retries = 3\n",
    "for i, line in enumerate(tqdm(processed_chunks, desc=\"Creating embeddings\")):\n",
    "    for attempt in range(retries):\n",
    "        try:\n",
    "            data.append({\"arxiv_id\": arxiv_id, \"id\": i, \"vector\": embeddings_list[i][1], \"text\": embeddings_list[i][0]})\n",
    "            break\n",
    "        except Exception as e:\n",
    "            print(f\"Error on line '{line}': {e}. Retrying {attempt + 1}/{retries}...\")\n",
    "            time.sleep(3*(attempt+1))  # 重试前等待 2 秒\n",
    "            if attempt == retries - 1:\n",
    "                print(f\"Failed to process line '{line}' after {retries} attempts.\")\n",
    "                # 记录错误信息（可选）\n",
    "                # data.append({\"id\": i, \"vector\": None, \"text\": line, \"error\": str(e)})"
   ]
  },
  {
   "cell_type": "code",
   "execution_count": 91,
   "metadata": {},
   "outputs": [
    {
     "name": "stdout",
     "output_type": "stream",
     "text": [
      "29\n",
      "{'arxiv_id': '2401.01040', 'id': 0, 'vector': [-0.22683027386665344, 2.156106948852539, -2.4321091175079346, -0.5241323113441467, 0.8876791000366211, -0.35857242345809937, 0.8799885511398315, -0.10043108463287354, -1.159690499305725, 1.3548728227615356, 0.4510385990142822, 0.6308646202087402, 1.4287934303283691, 1.0604209899902344, -0.1210523322224617, 0.27044039964675903, -0.630506157875061, 0.7107692360877991, -0.007955603301525116, 0.09365356713533401, -0.5294976830482483, -0.2874680161476135, -0.3762367367744446, -0.31868690252304077, 1.6617238521575928, -0.3259769678115845, -0.09007053822278976, -0.14662739634513855, -0.2622408866882324, 0.12540549039840698, 1.2255455255508423, 0.10081381350755692, 0.287771999835968, -0.7269757390022278, -1.1665589809417725, -0.4588192403316498, 0.014281193725764751, -0.314519464969635, 0.635515570640564, 0.8069763779640198, -0.2747404873371124, 0.6089200973510742, -0.5188892483711243, -0.6254041194915771, 0.08473111689090729, 0.18313245475292206, 0.8017299771308899, -0.8238663077354431, 0.7285605072975159, -0.8560664653778076, -0.314054936170578, -0.4295714199542999, -0.4180704653263092, 0.6509593725204468, 1.6961321830749512, 0.5271489024162292, 0.09186457842588425, -0.16161346435546875, -0.33218228816986084, -0.9145509004592896, 1.7828898429870605, 1.1848969459533691, -0.2021096795797348, 0.9682319760322571, 0.5740056037902832, -0.060463689267635345, -0.9090405106544495, 1.165460467338562, 0.6550561189651489, -0.339377224445343, -0.24393875896930695, -0.7490284442901611, 0.9620404839515686, 0.876057505607605, -0.2432384043931961, -0.03474823385477066, -0.16276481747627258, -0.4022202491760254, 0.41608673334121704, 1.2119989395141602, 0.5271962881088257, -1.0492149591445923, 1.0485270023345947, -0.45838820934295654, -0.3381490111351013, 0.12939409911632538, -0.49218159914016724, -0.559273898601532, -0.8382704854011536, 1.8709461688995361, -0.2064105123281479, 0.6846723556518555, -0.07533808052539825, -0.13504822552204132, 0.28616005182266235, 0.40179741382598877, -0.7960476279258728, 0.005076871253550053, -1.1918128728866577, -0.13380977511405945, -1.0555102825164795, 0.10612605512142181, -0.3332342207431793, -1.2543601989746094, 0.618232011795044, -0.13461706042289734, -0.11903776228427887, 0.1498400717973709, -0.8573496341705322, 0.9553164839744568, -0.2151411771774292, 0.45829150080680847, 0.34592339396476746, 0.10256179422140121, -0.16999995708465576, -0.8442121744155884, -0.08071938902139664, -0.14474239945411682, -0.07550442218780518, 0.8540639281272888, -0.10217273980379105, -0.5588977336883545, 0.8750861883163452, 0.10537540912628174, -0.5035360455513, 0.7952749133110046, -1.0511106252670288, -0.26235049962997437, -0.6611324548721313, -0.9072238206863403, -0.12625136971473694, -0.13106371462345123, 0.17796650528907776, 0.7019026279449463, -0.33182284235954285, 1.915047287940979, -0.6070196628570557, -0.7357715964317322, 0.28855928778648376, 0.28524965047836304, 0.9395790696144104, -0.41501620411872864, -0.48742273449897766, -0.613884687423706, 0.5826690793037415, -1.2330063581466675, 0.0020719319581985474, 0.20716489851474762, -1.1612290143966675, -0.21910853683948517, -0.24066434800624847, 0.4475119411945343, -0.947283923625946, -0.36402639746665955, 0.5027499198913574, 0.33939987421035767, -0.5566670894622803, 0.6609394550323486, -0.010831065475940704, -0.5036070942878723, 1.29262375831604, -0.05707068368792534, -0.09655755758285522, 0.6202675104141235, 0.016209619119763374, -0.485236257314682, 0.8217709064483643, -0.15461237728595734, 0.6968177556991577, 0.5562866926193237, -1.4530173540115356, -0.5504586696624756, -0.23322488367557526, 0.06429065763950348, 0.9633643627166748, -0.5057716965675354, 0.5061591863632202, -0.16075217723846436, -0.10244382172822952, 0.41123512387275696, 0.3814000189304352, -1.1761478185653687, 0.4647301137447357, -0.04040815681219101, -0.7594861388206482, -0.07330932468175888, -0.6686723828315735, 1.2809298038482666, 0.35619911551475525, -0.9120581150054932, 0.25873517990112305, -0.20664316415786743, -0.8197600841522217, -0.15021327137947083, -0.6484132409095764, -0.40342456102371216, 0.2887347340583801, -0.6849163770675659, 1.1766959428787231, -0.25181829929351807, -0.3848121762275696, -0.07508532702922821, -0.9224540591239929, 0.2539726197719574, -0.5118987560272217, 0.22703608870506287, 0.33764564990997314, -0.04493743181228638, -0.6912488341331482, -0.33613884449005127, 0.7393824458122253, 0.11603158712387085, 0.7205247282981873, -0.07371138036251068, 0.5493537187576294, -0.3556303083896637, 0.4460114538669586, -0.9635007381439209, -0.0889488160610199, -0.23220521211624146, 0.6126514673233032, -0.5758824348449707, 0.4834910035133362, 0.21931473910808563, -0.30897200107574463, -0.19375112652778625, -0.7643207311630249, 0.19482965767383575, -0.6408478021621704, 0.7246599197387695, -0.5734105110168457, 0.029637902975082397, 1.1961508989334106, 0.5717792510986328, 0.7489169239997864, 1.1996548175811768, 1.0635643005371094, 0.7112157344818115, 0.5737992525100708, 0.43990665674209595, -0.2308168113231659, 0.5346221923828125, -0.48943570256233215, 0.9010024070739746, -0.6498551368713379, -0.8735536932945251, -0.8525733351707458, -1.2097969055175781, -0.7263067364692688, 1.019949197769165, -1.1181633472442627, -0.5292410850524902, -0.33729633688926697, -0.23809415102005005, 0.46109098196029663, 0.31036514043807983, -0.3021818995475769, 0.35439518094062805, 1.1479204893112183, -0.12817668914794922, 0.829298734664917, -0.17676138877868652, -0.28970563411712646, 0.587195098400116, 0.785236656665802, -0.4102213978767395, 0.20558308064937592, -0.7160238027572632, 0.20216144621372223, -0.47613829374313354, 0.478870153427124, 0.7660871744155884, 0.5226453542709351, -0.17219778895378113, 0.6738026738166809, 0.16800524294376373, -0.41314995288848877, 0.030767448246479034, -0.00470702862367034, 0.7277191281318665, -1.1187399625778198, -0.49283891916275024, -0.7956458330154419, -0.008859876543283463, -0.27162444591522217, 0.14267529547214508, 0.13594578206539154, 0.8025633096694946, 0.07219060510396957, 0.3139415979385376, 0.6197348237037659, 0.27991876006126404, -1.132924199104309, -0.7437679767608643, -1.5571662187576294, 0.6909607648849487, 0.6583055257797241, -0.33021533489227295, 1.0901763439178467, -0.22614988684654236, 0.5753021836280823, 0.3124966323375702, 1.2077524662017822, 0.8230283260345459, -0.0652507096529007, -0.34455928206443787, -0.5897175669670105, 0.05544015392661095, 0.9096875786781311, 0.0475335419178009, -1.0998653173446655, 0.17569556832313538, 0.05614674091339111, -0.4523903727531433, 0.27262842655181885, 0.40976351499557495, 0.2965281903743744, 0.751302182674408, 0.24530529975891113, -0.365493506193161, 0.10857230424880981, -1.0086193084716797, -0.6105690598487854, 0.272790789604187, 0.07871918380260468, 1.009710431098938, -0.3296312987804413, 0.8663181662559509, -0.49819791316986084, -0.5143377780914307, 0.8126544952392578, -0.08676884323358536, 1.3310304880142212, -0.08268272131681442, -0.7522755861282349, -0.42230984568595886, 0.2121029794216156, -0.09875820577144623, 0.2384781837463379, 0.4326716959476471, 0.6766421794891357, -1.0262227058410645, 1.2159347534179688, -0.3184846043586731, -0.7481837272644043, 0.31142133474349976, -0.09196088463068008, 0.01697058603167534, 0.3510935604572296, 0.08802638947963715, -0.5098797678947449, 0.2803551256656647, -0.2960112392902374, -0.3370465338230133, 0.9197426438331604, -0.15100111067295074, 0.3776780962944031, 0.6597179174423218, 0.12054836750030518, 0.21834591031074524, 1.0020838975906372, -0.0419788658618927, -0.5263351202011108, 0.11147306114435196, -0.4730977416038513, 0.3556985557079315, 0.6833643317222595, 0.3287292420864105, -0.24129842221736908, -0.1053226962685585, 0.5659048557281494, 0.158047154545784, -0.6822084784507751, 0.26982417702674866, -0.7890709638595581, 0.7055871486663818, -1.0943056344985962, -1.0599898099899292, 0.3493155539035797, -0.34812119603157043, -0.5787076950073242, -0.2613033056259155, -0.11436448246240616, -0.4197908341884613, 1.0553596019744873, 0.4366433918476105, -0.06933313608169556, -0.9566571712493896, -0.5885440111160278, -0.5930277109146118, -0.2914651036262512, -0.10066088289022446, -1.2191802263259888, -0.4622258245944977, 1.2038952112197876, -0.6420537233352661, -0.008865618146955967, 0.349065899848938, -0.40930524468421936, -0.015159574337303638, -1.1404614448547363, -1.1524078845977783, -0.07243900746107101, -0.062310125678777695, 0.26218006014823914, -0.9819867014884949, -0.7658916115760803, 0.36285415291786194, 0.7199610471725464, 0.34304383397102356, 0.9239001274108887, 1.0331617593765259, 0.09172871708869934, -1.4336936473846436, 0.8342665433883667, 0.2225429266691208, 0.2667725086212158, 0.433607280254364, -0.3401448130607605, -0.004904984496533871, 0.6351010799407959, -0.006952603347599506, 0.4447357952594757, -0.19483263790607452, -0.29005929827690125, -0.1467713564634323, -0.15507598221302032, 1.136780023574829, -0.03355732932686806, -0.10195305198431015, 0.6352154612541199, -0.0034811836667358875, 0.7217411994934082, -0.16843277215957642, 0.0533718578517437, 0.2645966410636902, -0.12074840068817139, 0.9612051844596863, 0.4242471158504486, 0.7125089168548584, 0.500385582447052, -0.5548318028450012, -0.25356683135032654, -0.8013900518417358, 1.1060421466827393, 1.197831153869629, 0.926023006439209, -0.5064050555229187, -1.7547607421875, 0.916763186454773, -0.3306812047958374, 0.6645038723945618, 0.3171740770339966, 0.288470059633255, 0.764309823513031, -0.18806056678295135, 0.1411205530166626, 0.222590833902359, 0.05874243378639221, -0.029262835159897804, 0.3531809151172638, 0.5563141107559204, -1.7850114107131958, 0.24731837213039398, -0.580086886882782, 0.3683924078941345, -0.08006346970796585, -0.9753474593162537, 1.7298692464828491, 0.99683678150177, 0.3647238612174988, 0.43463820219039917, 0.7031510472297668, -1.1738089323043823, -0.6800154447555542, -0.37030187249183655, 0.033976633101701736, -0.41951504349708557, 0.4579824209213257, 0.9538462162017822, -0.2157866507768631, -0.6189349293708801, -0.5442073941230774, -0.420897901058197, -0.26014164090156555, 1.1802340745925903, -0.30361858010292053, -0.23832491040229797, -0.455777645111084, -0.2466106116771698, 0.9063689112663269, -0.7585631012916565, -0.04039094224572182, -0.29649364948272705, -1.3285903930664062, -1.3414709568023682, -0.7196860909461975, 0.9207645654678345, 0.2753755748271942, 0.4901201128959656, -0.5407958030700684, 1.2713569402694702, -0.2951054573059082, -0.27613478899002075, 0.38166534900665283, 0.06019764393568039, 0.5381985306739807, -2.0689005851745605, -1.0925941467285156, 1.7602946758270264, -0.07112488895654678, -0.2958257794380188, -0.14763818681240082, -0.22590577602386475, -0.21919026970863342, -0.352397620677948, 1.0685197114944458, -0.4271944761276245, -1.1961511373519897, 0.10114272683858871, 0.31577154994010925, -0.16755357384681702, -0.005475037731230259, -0.7622898817062378, -1.853754997253418, 0.14349466562271118, 0.7290905117988586, -0.9245699048042297, 0.6221969127655029, -0.039660658687353134, 0.3346889615058899, 0.2820422351360321, -1.3363250494003296, 0.18658232688903809, 0.062310028821229935, -0.1395728588104248, -0.2949818968772888, -0.6079920530319214, 0.6063042283058167, 1.0054736137390137, 1.2533880472183228, 0.9305845499038696, 0.0786016657948494, -0.15080398321151733, -0.7350439429283142, 0.48370033502578735, -0.18610364198684692, 1.1808269023895264, -0.987585186958313, -1.5206255912780762, 0.26328977942466736, -1.0686191320419312, -0.07324115186929703, -0.14431479573249817, 0.9360625147819519, -0.4311373233795166, -1.0040409564971924, -0.5433374047279358, 0.412712037563324, 0.10013030469417572, -0.2131863385438919, -0.41913482546806335, 0.9036154747009277, 0.18730168044567108, -0.15070421993732452, -0.0070711346343159676, -0.18496212363243103, 0.0135909803211689, -0.2585819363594055, 1.5229010581970215, 1.548152208328247, -0.6758739352226257, -0.7003327012062073, 0.35307666659355164, -0.1327202320098877, -1.3104007244110107, 0.18941570818424225, -0.9851967096328735, -0.642396867275238, -0.9923122525215149, 0.31975358724594116, -1.21132493019104, 0.48151472210884094, 0.37890517711639404, 0.4827719032764435, 0.1067364439368248, -0.6827277541160583, -0.254938006401062, 0.8161075711250305, -0.008360692299902439, -0.771949291229248, -0.619549572467804, 0.3656396269798279, -1.2392319440841675, -1.0594745874404907, 0.38169777393341064, 0.669227659702301, -0.8827786445617676, -1.006218671798706, -1.1045953035354614, -0.20862515270709991, -0.33419370651245117, 1.0581154823303223, -0.762621283531189, 0.5133134126663208, 1.6455799341201782, -0.13816000521183014, 1.2799468040466309, 0.1224047914147377, -0.5451235771179199, -0.041344933211803436, 0.31690919399261475, 0.17716853320598602, 0.5273303389549255, 1.1518300771713257, -0.10572798550128937, 1.9426801204681396, -0.7798388004302979, -1.433935523033142, 0.6535053253173828, -0.15612101554870605, -1.1670067310333252, 0.19413194060325623, -0.7485178112983704, -0.164017453789711, -0.7161876559257507, -0.4129559099674225, -0.6370114088058472, 0.08162447065114975, 1.632397174835205, -0.8334373235702515, 0.03224065899848938, 0.38584277033805847, 0.3883514702320099, -0.538562536239624, -0.6240049004554749, -0.3556581139564514, 0.4922657907009125, 0.5456854701042175, 0.4588749408721924, 0.108783058822155, -0.5813178420066833, -0.6490993499755859, 0.7469432950019836, 1.022517204284668, -1.1290085315704346, 0.9520871639251709, 1.3874088525772095, -0.002716370392590761, -0.31191980838775635, 1.291656494140625, 1.158031702041626, 0.25886520743370056, -0.22953259944915771, -0.9740544557571411, -0.21489684283733368, -0.12321232259273529, -0.395151823759079, -0.0572371743619442, -0.3533347249031067, 0.5935771465301514, 0.8350221514701843, -0.7011792659759521, 0.08159781247377396, 0.01547320932149887, -1.135998249053955, -0.1760605424642563, 0.04265182465314865, -0.21916057169437408, -0.3125603497028351, 1.146349310874939, -0.30435243248939514, -0.49176427721977234, -0.8715707063674927, -0.09697511047124863, 0.5344226956367493, 0.47210824489593506, -0.12824858725070953, 0.32008466124534607, -0.09641218930482864, 0.6281410455703735, -0.8791933655738831, 0.77413409948349, -0.8937968611717224, -0.27494025230407715, 0.22887460887432098, 0.6686890125274658, 0.4466456472873688, -1.3561906814575195, -0.9111814498901367, -0.026600448414683342, -0.33610305190086365, -0.055631205439567566, 0.24434158205986023, 0.060480616986751556, 0.5990781188011169, -0.6093173027038574, 0.5783959031105042, 0.8150575757026672, 1.3252137899398804, -0.6364807486534119, 0.7198482155799866, 0.20040957629680634, 0.6887667775154114, 0.04227800294756889, -0.7338525056838989, -0.35938987135887146, 0.25192537903785706, 0.18551382422447205, -0.03749796003103256, -0.2743070721626282, 0.7985687851905823, -1.1299490928649902, 1.0960763692855835, -0.1162804663181305, -0.02382487989962101, -0.42819392681121826, -1.4748250246047974, -0.3223269581794739, 0.6768985986709595, 0.8191350102424622, -0.6334744095802307, -1.249801754951477, 0.3347829580307007, -0.7256393432617188, -0.34819331765174866, 0.47573089599609375, -0.38915780186653137, 0.31035947799682617, 0.005920308642089367, 0.28253594040870667, -0.9047181606292725, -1.071681022644043, 0.7630152106285095, -0.08191376179456711, 0.4251532554626465, -1.0052577257156372, -0.5518898963928223, -0.29665982723236084, -0.37871938943862915, 0.44797390699386597, 0.7076091170310974, 0.1457453966140747, -0.5497758388519287, 0.17019350826740265, -0.138985276222229, -0.5342788100242615, 0.703856885433197, -0.21214881539344788, -0.6418874859809875, 0.737729012966156, -0.4437393248081207, -0.6402902603149414, 0.18651363253593445, 0.17023494839668274, 0.9416847229003906, -0.6237461566925049, 0.9336254596710205, 2.5801925659179688, 0.20520547032356262, 0.8784317374229431, -1.4846326112747192, 0.5471681356430054, -0.6279280185699463, -1.1630191802978516, 0.16622929275035858, -0.39883747696876526, 0.16006402671337128], 'text': 'ABSTRACT\\nThe remarkable advancements in artificial intelligence (AI), primarily driven by deep neural networks, have\\nsignificantly impacted various aspects of our lives. However, the current challenges surrounding unsustainable\\ncomputational trajectories, limited robustness, and a lack of explainability call for the development of next-\\ngeneration AI systems. Neuro-symbolic AI (NSAI) emerges as a promising paradigm, fusing neural, symbolic,\\nand probabilistic approaches to enhance interpretability, robustness, and trustworthiness while facilitating learning\\nfrom much less data. Recent NSAI systems have demonstrated great potential in collaborative human-AI scenarios\\nwith reasoning and cognitive capabilities. In this paper, we provide a systematic review of recent progress in\\nNSAI and analyze the performance characteristics and computational operators of NSAI models. Furthermore, we\\ndiscuss the challenges and potential future directions of NSAI from both system and architectural perspectives.\\n1'}\n"
     ]
    }
   ],
   "source": [
    "print(len(data))\n",
    "print(data[0])"
   ]
  },
  {
   "cell_type": "code",
   "execution_count": 92,
   "metadata": {},
   "outputs": [],
   "source": [
    "# Define the collection schema\n",
    "from pymilvus import Collection, CollectionSchema, DataType, FieldSchema, MilvusClient\n",
    "\n",
    "milvus_client = MilvusClient(\"milvus_demo.db\")"
   ]
  },
  {
   "cell_type": "code",
   "execution_count": 93,
   "metadata": {},
   "outputs": [],
   "source": [
    "dim = len(embeddings_list[0][1])  # Get the dimension of your embeddings\n",
    "fields = [\n",
    "    FieldSchema(name=\"id\", dtype=DataType.INT64, is_primary=True),\n",
    "    FieldSchema(name=\"arxiv_id\", dtype=DataType.VARCHAR, max_length=32),\n",
    "    FieldSchema(name=\"text\", dtype=DataType.VARCHAR, max_length=65535),\n",
    "    FieldSchema(name=\"vector\", dtype=DataType.FLOAT_VECTOR, dim=dim)\n",
    "]\n",
    "schema = CollectionSchema(fields=fields, description=\"paper_embeddings\")\n",
    "\n",
    "# Create collection\n",
    "collection_name = \"paper_embeddings\"\n",
    "\n",
    "if milvus_client.has_collection(collection_name=collection_name):\n",
    "    milvus_client.drop_collection(collection_name=collection_name)\n",
    "milvus_client.create_collection(\n",
    "    collection_name=collection_name,\n",
    "    schema=schema)\n",
    "\n",
    "# Create an IVF_FLAT index for the embedding field\n",
    "field_name = \"vector\"\n",
    "\n",
    "# Define index parameters\n",
    "index_params = [{\n",
    "    \"field_name\": field_name,\n",
    "    \"index_type\": \"IVF_FLAT\",\n",
    "    \"metric_type\": \"IP\",\n",
    "    \"params\": {\"nlist\": 128}  # nlist: number of clusters (adjust as needed)\n",
    "}]\n",
    "\n",
    "# Create the index\n",
    "milvus_client.create_index(\n",
    "    collection_name=collection_name,\n",
    "    index_params=index_params\n",
    ")\n"
   ]
  },
  {
   "cell_type": "code",
   "execution_count": 94,
   "metadata": {},
   "outputs": [
    {
     "data": {
      "text/plain": [
       "{'insert_count': 29, 'ids': [0, 1, 2, 3, 4, 5, 6, 7, 8, 9, 10, 11, 12, 13, 14, 15, 16, 17, 18, 19, 20, 21, 22, 23, 24, 25, 26, 27, 28], 'cost': 0}"
      ]
     },
     "execution_count": 94,
     "metadata": {},
     "output_type": "execute_result"
    }
   ],
   "source": [
    "milvus_client.insert(collection_name=collection_name, data=data)"
   ]
  },
  {
   "cell_type": "code",
   "execution_count": 95,
   "metadata": {},
   "outputs": [
    {
     "name": "stdout",
     "output_type": "stream",
     "text": [
      "[0.5097389221191406, 0.7643529176712036, -2.717076301574707, -2.796359062194824, 0.48820894956588745, 0.17529773712158203, -0.0026921313256025314, -0.18672415614128113, -0.5681865215301514, -0.019207902252674103, 0.1707848310470581, 0.14132288098335266, 2.8740363121032715, 1.5528528690338135, 1.0321707725524902, -1.5478198528289795, -0.7940031886100769, -1.550112247467041, 0.8407857418060303, -0.0866343230009079, -0.527118444442749, -0.08706706762313843, -0.018099743872880936, -0.7683690190315247, 2.0643463134765625, 0.1448265016078949, 1.4359667301177979, -0.677114725112915, -1.0343513488769531, 0.6570568084716797, 0.7260560393333435, 0.46517467498779297, 0.5738341808319092, -0.9589502215385437, -0.484345018863678, 0.10073967278003693, -0.009476006031036377, 2.3630242347717285, 0.1101347953081131, -0.594012975692749, -0.273466020822525, 1.2196016311645508, -0.3849544823169708, -0.744173526763916, 0.00511213019490242, 1.1873400211334229, 0.3840443193912506, -0.2720259428024292, 0.04911775887012482, -0.6381106376647949, 0.19071877002716064, -0.5502417683601379, 0.572455644607544, 0.21454554796218872, 1.2205785512924194, 0.15804100036621094, -0.3345903754234314, 0.26880040764808655, 0.6805469393730164, -0.7766256332397461, 1.182328224182129, 1.7066998481750488, -0.894159197807312, 1.888421893119812, 1.5590217113494873, -0.8952708840370178, -0.9342480897903442, 0.3364899754524231, -0.5066274404525757, -1.3819228410720825, 0.7014917731285095, 0.06890824437141418, 1.492837905883789, 0.5506983399391174, -0.9020093679428101, 0.7152607440948486, 0.5635017156600952, -0.34829869866371155, 1.0540852546691895, 0.19548660516738892, 1.270005226135254, -0.5494528412818909, 1.7464637756347656, -0.44126132130622864, 1.2975603342056274, -0.659791886806488, 0.7064731121063232, 0.010070506483316422, -0.5059360265731812, 1.4545531272888184, -0.8072173595428467, 0.8749982118606567, -0.2639545202255249, 0.09844149649143219, -1.1591577529907227, -0.28147876262664795, -0.7884355187416077, 0.4314916431903839, -2.1957836151123047, 0.2718297243118286, -1.8776588439941406, 0.4479900002479553, 0.41536736488342285, -0.7800720930099487, 0.8834607005119324, 0.41953837871551514, 0.34796208143234253, -0.017419446259737015, -0.7726902365684509, 0.42783257365226746, -0.2258923202753067, 1.6742956638336182, -1.8518636226654053, -0.3175412118434906, 0.040443696081638336, -0.7584607601165771, 1.5619933605194092, -1.1624317169189453, -0.06254753470420837, -0.2473834753036499, 0.08655819296836853, -1.3014684915542603, 1.646040439605713, 0.4072812497615814, 0.10170014202594757, 0.5883140563964844, -0.9360059499740601, -0.2281452864408493, -0.546515703201294, -0.683858335018158, -0.35663795471191406, -0.591180682182312, -0.08118420839309692, -0.5745712518692017, 0.20878006517887115, 0.34543004631996155, -0.8621581792831421, -0.6327837109565735, -0.1247754618525505, 1.3934767246246338, -0.2298022210597992, 1.0325489044189453, -1.7856755256652832, -1.1248722076416016, -0.11004391312599182, -0.40245091915130615, 2.6048460006713867, -0.5273752212524414, -0.4254632592201233, -0.9486050009727478, 0.7444766759872437, 0.9302629232406616, 0.040277764201164246, 0.4532780051231384, -0.16867828369140625, -1.1183258295059204, 0.2044583559036255, -0.12780353426933289, -0.13327425718307495, 0.3595007061958313, 1.7743546962738037, -0.19051064550876617, -0.7471404075622559, 1.048227071762085, -0.9606956839561462, -0.372464120388031, 1.4107319116592407, -0.333538293838501, 0.9339292049407959, -0.1392422616481781, 0.07102388888597488, 0.4340907335281372, 0.16726721823215485, -0.12432482093572617, 1.0871344804763794, -0.3095206916332245, 0.3421172499656677, -0.012964349240064621, 0.9231847524642944, -0.06125674396753311, 0.5050051212310791, -0.9566488862037659, 0.11956693232059479, 0.28709882497787476, -0.2529492974281311, -0.6302709579467773, 0.3782424032688141, 0.32463181018829346, -1.0531339645385742, -0.335862398147583, -0.37831881642341614, 0.5427672863006592, -0.3486519157886505, -0.02949598990380764, -0.43442457914352417, -0.4901629388332367, 0.1809975951910019, -0.3772326409816742, 0.40926438570022583, -0.4609869420528412, 0.24014800786972046, -0.10186022520065308, -1.4973556995391846, 0.9831671714782715, -0.6427741050720215, 1.9212132692337036, -1.4649033546447754, 0.09231354296207428, -0.9592640995979309, 0.5292981863021851, 2.04575777053833, 0.9462770223617554, 0.434887170791626, 0.33893486857414246, -0.1717013716697693, -0.30853983759880066, 0.6922318339347839, -0.652297854423523, -0.2439560890197754, 0.8608803749084473, 0.788217306137085, -0.4684908092021942, 0.20988692343235016, 0.30768024921417236, 1.164971113204956, 0.5429878830909729, 0.02901133894920349, 0.49392470717430115, -0.5646878480911255, 0.3781561553478241, -0.6246575117111206, -1.931003212928772, 0.5660937428474426, 0.9961037039756775, -0.7049551010131836, 0.39491626620292664, -0.009521065279841423, 2.020658016204834, -0.6463803052902222, -0.198411762714386, -0.6756688356399536, 1.389019250869751, 0.8548177480697632, 0.08385753631591797, -1.080130696296692, 0.30488789081573486, 0.7773378491401672, -0.13813868165016174, 0.6823079586029053, 0.6016050577163696, 0.29027605056762695, -0.47285524010658264, 0.630520761013031, 0.5434264540672302, 0.5199766159057617, -0.2837085723876953, 0.22326558828353882, -0.2795959711074829, 0.5958189964294434, -1.157647728919983, 0.49041885137557983, 0.03678225353360176, 1.9831180572509766, -0.4966094493865967, -1.0243242979049683, -0.6185519695281982, -0.678118109703064, 0.1365433931350708, -0.2981165945529938, -0.9784196615219116, -0.3237627148628235, -0.1573847532272339, -1.3476487398147583, 0.28789016604423523, -0.58629310131073, 0.7356561422348022, 0.09393025934696198, -0.5965574383735657, -0.4699579179286957, 0.11297022551298141, -0.67011559009552, 0.8994098901748657, -0.921796441078186, 0.7651501893997192, 0.12139549851417542, 1.5061763525009155, 0.7789344787597656, 0.5937479734420776, -0.07416997849941254, 0.18974456191062927, 0.3843214511871338, -0.04148878902196884, -0.20488455891609192, 0.9785547256469727, -0.7972419261932373, 0.4040381908416748, 0.18071523308753967, 0.5669621825218201, 0.5182268619537354, -0.423664927482605, 1.171004295349121, 0.4329048693180084, 1.1542766094207764, 0.16269540786743164, 0.5799247026443481, -1.1236722469329834, 0.48182442784309387, -1.4056975841522217, 0.9548775553703308, 0.19417475163936615, -1.0006358623504639, -1.2866390943527222, -0.6606261134147644, 1.0403989553451538, -1.752274990081787, 1.6397149562835693, 0.6297274827957153, 0.02912844344973564, 1.4951348304748535, -0.300770103931427, 0.7640306949615479, 0.5351250171661377, -0.5249096155166626, 0.26732563972473145, 0.566041886806488, 0.9520480036735535, -0.2264583706855774, 0.38435253500938416, 0.8158867359161377, -1.2106897830963135, 0.7294747829437256, 0.3748074471950531, -0.7290045022964478, -0.7441456913948059, -0.5148267149925232, -0.4356188178062439, -1.9823596477508545, -0.6855120658874512, -0.823052704334259, 0.013369705528020859, 1.0208454132080078, -1.0176262855529785, 1.1657347679138184, -1.6021233797073364, 0.060036830604076385, 0.28791284561157227, -0.19118037819862366, -1.6903247833251953, 1.409663438796997, -0.3366718888282776, -0.8290182948112488, 1.4423887729644775, -0.4547387957572937, -0.5140832662582397, -1.1083451509475708, -0.5001451969146729, 1.3379117250442505, -0.3109731674194336, -0.0932498425245285, 0.2074669897556305, 0.8075076341629028, -0.9905823469161987, -0.6969928741455078, -0.837544322013855, 1.0175508260726929, -0.7050790190696716, -0.012540753930807114, -0.2910568118095398, 0.6656454205513, 0.8636437654495239, -0.00929797813296318, -0.2150975614786148, -0.22148719429969788, 1.4699844121932983, -0.32417166233062744, -1.4615063667297363, -1.3931884765625, 0.968034029006958, -1.2503712177276611, 0.2462853193283081, 2.2024996280670166, -0.24552181363105774, -0.22252999246120453, 0.10410162806510925, 0.5548729300498962, 0.4522649347782135, -1.1151375770568848, 0.6468403339385986, -0.6697562336921692, 0.017926231026649475, -0.1549532413482666, -1.3546099662780762, -0.4239172339439392, -0.031873106956481934, 0.26708322763442993, -0.11937713623046875, -0.08471842855215073, 0.6962676048278809, -0.04809238016605377, 0.7074251174926758, 0.7010514140129089, -0.4850589334964752, -0.025987468659877777, 0.23635828495025635, 0.9042736291885376, 1.446218490600586, -0.5872597694396973, -1.573185682296753, 0.8218501806259155, -0.11449620127677917, 0.5210602283477783, 0.562807559967041, -0.3097965121269226, -1.5091707706451416, -0.3057831823825836, -0.07917062193155289, 1.8147406578063965, 0.5974289178848267, -0.9493532776832581, -0.28979140520095825, 1.9478442668914795, 0.08467662334442139, -0.22168850898742676, -0.36635544896125793, 0.7023777365684509, 1.0364353656768799, 0.8103293776512146, 1.4227569103240967, -0.12207835167646408, -0.7509806752204895, -0.2629531919956207, 0.14848491549491882, 0.8076242208480835, 1.1482341289520264, -1.434755563735962, 0.3128570318222046, -0.4535418748855591, 0.8056957721710205, -0.779933750629425, 0.12769947946071625, 0.6928279995918274, -0.46043145656585693, -0.11048837751150131, -0.5580078959465027, 0.5370053648948669, 1.865915298461914, 1.1084492206573486, -0.38396552205085754, -1.3488056659698486, 0.4563010632991791, 0.5585763454437256, 1.4052793979644775, 0.29736605286598206, 0.6852962374687195, 0.9414179921150208, 0.4402163624763489, 0.20477743446826935, -0.36268821358680725, -0.1557280272245407, 0.2844022214412689, -0.09546805918216705, -1.394337773323059, -0.4102496802806854, 0.6128861904144287, 1.7123417854309082, -0.600098729133606, -0.2596769332885742, -0.6043366193771362, 0.5049545764923096, 0.8294181227684021, 0.512894332408905, 0.44476601481437683, 0.04281413555145264, -0.8965209722518921, 0.7079231142997742, 0.32559478282928467, -0.7481006979942322, 0.14718033373355865, 0.11578862369060516, -0.6743408441543579, 0.20737391710281372, 0.3126639127731323, -1.0157212018966675, -1.6155905723571777, -0.09675771743059158, 0.6019927263259888, -0.27008020877838135, -0.4646701216697693, -0.06927725672721863, -0.34973716735839844, 0.976125180721283, 0.24983027577400208, 0.6307125091552734, 0.30236852169036865, -0.867171585559845, -1.2115808725357056, 0.6356282234191895, -0.49859291315078735, 0.9571171998977661, -0.3020540177822113, 0.9680763483047485, 2.0781800746917725, -0.17202118039131165, 0.8352116346359253, 0.567488431930542, 0.22426676750183105, 0.629428505897522, -1.1534368991851807, -1.1647489070892334, 0.8055059909820557, 0.14355193078517914, -0.08176475018262863, -1.1018680334091187, 0.25837910175323486, 0.9439753293991089, 0.21472153067588806, -0.02614569664001465, -0.8425098657608032, -0.9074782729148865, -0.0401759147644043, -0.6190263628959656, -0.1634061485528946, -1.7334240674972534, 0.02856084704399109, -1.4066475629806519, 0.6906355619430542, -0.07238426804542542, -1.9782207012176514, -0.2587304413318634, 0.4383663535118103, -0.23949989676475525, 0.854445219039917, -0.41981083154678345, -0.6258764266967773, -0.4511454999446869, -0.6928901672363281, -0.9492741823196411, 0.5995044708251953, 0.4284523129463196, 0.5198595523834229, -0.44948697090148926, 1.3490185737609863, -0.4433233141899109, 0.6500622034072876, -0.22063735127449036, -0.20121480524539948, -1.486568808555603, -0.21786892414093018, 1.346740484237671, -2.1878132820129395, -0.33442002534866333, -0.12603138387203217, 0.3244587779045105, -1.018498420715332, 0.30475345253944397, -0.9519904255867004, -0.8676351308822632, -1.1972739696502686, -0.24045519530773163, -0.2372414618730545, -0.14741873741149902, 1.334028720855713, -0.044428035616874695, -0.39934706687927246, -0.04307886213064194, -1.0734312534332275, 0.8679265379905701, -0.9543664455413818, 0.9580117464065552, -0.051438115537166595, 0.08259788155555725, -0.8105229139328003, 0.2408086657524109, -0.8502982258796692, -0.33298465609550476, 0.2638876438140869, -0.6703166961669922, 0.07600061595439911, -1.6828275918960571, -0.11492925137281418, 0.4185261130332947, -1.6251156330108643, 1.202989101409912, -0.8269082903862, 0.23108769953250885, 0.5283077955245972, -0.7346594333648682, -0.6591101884841919, 0.6914078593254089, 0.03563468158245087, -1.1422693729400635, 0.3387317359447479, -0.41210874915122986, -0.6968396902084351, -0.0986146479845047, 0.4714970588684082, -0.7562941908836365, -0.4823531210422516, -0.05232379585504532, -1.1855897903442383, 0.2817956209182739, 1.021004557609558, 0.08255305141210556, -1.4900016784667969, 1.0823283195495605, 2.4822442531585693, -0.01963435485959053, 0.017182493582367897, -0.5990473031997681, -0.7653946876525879, 0.6087672710418701, 1.3671674728393555, -0.6548662185668945, -0.2549433410167694, 1.6372995376586914, 0.5604628920555115, 0.5423493385314941, -0.4845682978630066, 0.055616237223148346, -0.7411495447158813, 0.4449821412563324, -0.6045310497283936, 1.5893218517303467, 0.6139581203460693, -0.07343195378780365, 1.0313247442245483, -0.8122519254684448, -0.6502047181129456, 0.05103028193116188, 2.297628402709961, -0.011001557111740112, 0.9299936294555664, -1.5588185787200928, -0.3300606608390808, -0.24908030033111572, -0.17497695982456207, -1.1671065092086792, 0.9786233305931091, -0.2251928746700287, 0.5570595264434814, 0.2817070484161377, -0.5662447810173035, -0.0612793043255806, 0.3199898898601532, 0.43803495168685913, -1.0133057832717896, -1.111936330795288, 0.8648853302001953, -0.6712664365768433, -0.8068667650222778, 1.4238779544830322, 1.1394258737564087, 0.34919971227645874, -0.4284871220588684, -0.027964651584625244, 0.10739971697330475, 0.9743035435676575, -0.8449625968933105, -1.094161033630371, -0.8554332256317139, -0.21248671412467957, -0.3489822447299957, -0.7584431171417236, 0.4099310338497162, -0.21051399409770966, 0.6451653242111206, 0.7012664079666138, 0.42508864402770996, -0.14322131872177124, -0.3502886891365051, 0.17549794912338257, -0.8824556469917297, -0.09670946002006531, 0.23848947882652283, -0.5558468699455261, -0.21167922019958496, 0.6763385534286499, 0.8878228068351746, -0.4640420973300934, -0.9503010511398315, 0.03851907700300217, 1.738340973854065, 1.7220925092697144, 0.7765618562698364, -0.8886297345161438, -0.9280759692192078, 0.06573553383350372, -0.04250869154930115, -1.2827887535095215, -2.094604015350342, 0.13737648725509644, -0.33651748299598694, 0.2205239236354828, -0.9268991947174072, 0.21866798400878906, -0.6831037998199463, -1.0974788665771484, 0.08369971811771393, -0.5236523747444153, 1.054842233657837, 0.28168174624443054, -0.34723150730133057, 0.5685638785362244, 1.4181697368621826, -0.1248258501291275, 0.02379600517451763, 0.21203720569610596, -0.22110481560230255, -0.3493327498435974, 0.3674226999282837, -0.1307905912399292, 0.7634885907173157, 1.1844706535339355, 0.4119480848312378, -0.8106808066368103, 0.4356926381587982, -1.8857181072235107, -1.9511717557907104, -1.0540602207183838, -0.27233201265335083, 0.8699091672897339, -0.2864185869693756, -1.1771156787872314, -0.11293251067399979, -0.48566871881484985, -0.14573168754577637, -0.760138213634491, -0.8835867643356323, 0.9402101039886475, -0.11021994054317474, -0.19861538708209991, 0.18629497289657593, -0.6240357160568237, 1.882359504699707, -0.7448524236679077, 0.5704059600830078, 0.3057173788547516, -1.1369047164916992, 0.0008816197514533997, -0.7679761648178101, -0.5226230621337891, 0.19683070480823517, -0.6096519827842712, 1.0113039016723633, 0.18996986746788025, -0.2980008125305176, -0.9172428846359253, -0.7127425074577332, 0.3360040783882141, -0.01750051975250244, 0.8755985498428345, -0.7739413380622864, -0.5776184797286987, -0.32365882396698, 0.19876629114151, -0.32346111536026, -0.2941059470176697, 1.2849609851837158, 2.4757626056671143, 0.33440089225769043, 0.045931920409202576, -0.7394848465919495, 1.4559462070465088, 1.1249866485595703, -1.3740885257720947, -1.1868261098861694, -1.1933050155639648, -0.8930172920227051]\n"
     ]
    }
   ],
   "source": [
    "# search\n",
    "my_question = \"what is the abstract?\"\n",
    "emb_question = get_embedding(my_question)\n",
    "print(emb_question)"
   ]
  },
  {
   "cell_type": "code",
   "execution_count": 96,
   "metadata": {},
   "outputs": [
    {
     "name": "stdout",
     "output_type": "stream",
     "text": [
      "[\n",
      "    [\n",
      "        \"in Tab. 1. We elaborate each of these paradigms below. Ad-\\nditionally, Tab. 2 provides examples of several underlying\\noperations based on the categorization in Tab. 1.\\nSymbolic[Neuro] refers to an intelligent system that em-\\npowers symbolic reasoning with the statistical learning ca-\\npabilities of NNs. These systems typically consist of a com-\\nprehensive symbolic problem solver that includes loosely-\\ncoupled neural subroutines for statistical learning. Exam-\\nples include DeepMind\\u2019s AlphaGo (Silver et al., 2017) and\\nAlphaZero (Zhang & Yu, 2020), which use Monte-Carlo\\nTree Search (MCTS) as the symbolic solver and NN state\\nestimators for learning statistical patterns.\\nTable 1. Survey of recent NSAI algorithms into five groups, with a\\nsummary of their underlying operations and vector formats.\\nCategory\\nNSAI Algorithm\\nUnderlying Operation\\nIf Vector\\nSymbolic[Neuro]\\nAlphaGo (Silver et al., 2017)\\nNN, MCTS\\nVector\\nNeuro|Symbolic\\nNVSA (Hersche et al., 2023)\\nNN, mul, add\",\n",
      "        218.44142150878906\n",
      "    ],\n",
      "    [\n",
      "        \"CONCLUSION\\nNSAI is an emerging paradigm for next-generation effi-\\ncient, robust, explainable, and cognitive AI systems. This\\npaper systematically reviews recent NSAI algorithms, char-\\nTowards Cognitive AI Systems: a Survey and Prospective on Neuro-Symbolic AI\\nacterizes their system performance, analyzes their workload\\noperators, and identifies the challenges and opportunities\\ntowards fullfiling next-generation NSAI systems.\",\n",
      "        217.3589324951172\n",
      "    ],\n",
      "    [\n",
      "        \"6.82%\\n7.12%\\n0.00%\\n0%\\n15%\\n30%\\n45%\\n(Neuro)\\nLNN\\n(Symbolic)\\nLTN\\n(Neuro)\\nLTN\\n(Symbolic)\\nNVSA\\n(Neuro)\\nNVSA\\n(Symbolic)\\nConv\\nMatMul\\nVector/Element\\nData\\nData\\nOther\\nTransform\",\n",
      "        216.8720245361328\n",
      "    ],\n",
      "    [\n",
      "        \"our knowledge, this is the first paper to assess NSAI from\\nboth a system and architecture perspective, aiming to inspire\\nthe design of next-generation cognitive computing systems\\nthrough synergistic advancements in NSAI algorithms, sys-\\ntems, architecture, and algorithm-hardware co-design.\\n2\\nNEURO-SYMBOLIC AI ALGORITHMS\\nIn this section, we systematically review and categorize the\\nrecent research progress in NSAI algorithms.\\nOverview. NSAI represents an interdisciplinary approach\\nthat synergistically combines symbolic reasoning with neu-\\nral network (NN) learning to create intelligent systems,\\nleveraging the complementary strengths of both to enhance\\nthe accuracy and interpretability of the resulting models.\\nGiven that NSAI algorithms typically incorporate both sym-\\nbolic and neural components, various NSAI paradigms can\\nbe categorized based on how these components are inte-\\ngrated into a cohesive system. Inspired by Henry Kautz\\u2019s\\nNSAI taxonomy (Kaut, 2020), we systematically categorize\\nthese NSAI algorithms into five paradigms, as summarized\\nin Tab. 1. We elaborate each of these paradigms below. Ad-\\nditionally, Tab. 2 provides examples of several underlying\\noperations based on the categorization in Tab. 1.\\nSymbolic[Neuro] refers to an intelligent system that em-\\npowers symbolic reasoning with the statistical learning ca-\",\n",
      "        215.04322814941406\n",
      "    ],\n",
      "    [\n",
      "        \"Non-Vector\\nNeuro:Symbolic\\n\\u2192Neuro\\nLNN (Riegel et al., 2020)\\nNN, fuzzy logic\\nVector\\nSymbolic Mathematics\\n(Lample & Charton, 2019)\\nNN\\nVector\\nDifferentiable ILP\\n(Evans & Grefenstette, 2018)\\nNN, fuzzy logic\\nVector\\nNeuroSymbolic\\nLTN (Badreddine et al., 2022)\\nNN, fuzzy logic\\nVector\\nDeep ontology networks\\n(Hohenecker & Lukas, 2020)\\nNN\\nVector\\nNeuro[Symbolic]\\nGNN+attention\\n(Lamb et al., 2020)\",\n",
      "        214.8708038330078\n",
      "    ],\n",
      "    [\n",
      "        \"for efficiency, explainability, and trust in AI systems.\\nNeuro-symbolic AI (NSAI) represents an emerging AI\\nparadigm that integrates neural, symbolic, and probabilistic\\napproaches to enhance explainability, robustness, and enable\\n*Equal contribution\\n1Georgia Institute of Technology. Cor-\\nrespondence to:\\nTushar Krishna <tushar@ece.gatech.edu>,\\nYingyan (Celine) Lin <ylin715@gatech.edu>, Arijit Raychowd-\\nhury <arijit.raychowdhury@ece.gatech.edu>.\\nWorkshop on Systems for Next-Gen AI Paradigms, 6 th Confer-\\nence on Machine Learning and Systems (MLSys), June 4-8, 2023,\\nMiami, FL, USA. Copyright 2023 by the author(s).\\nlearning from much less data in AI (Fig. 1). Neural methods\\nhave proven highly effective in extracting complex features\\nfrom data for tasks such as natural language processing\\nand object detection. On the other hand, symbolic methods\\nenhance explainability and reduce the dependence on exten-\\nsive training data by incorporating established models of the\\nphysical world, and probabilistic methods enable cognitive\\nsystems to more effectively handle uncertainty, resulting in\\nimproved robustness under unstructured conditions. The\\nsynergistic fusion of neural, symbolic, and probabilistic\\nmethods positions NSAI as a promising paradigm capable\\nof ushering in the third wave of AI (Garcez & Lamb, 2023).\",\n",
      "        210.82772827148438\n",
      "    ],\n",
      "    [\n",
      "        \"NN\\nVector\\nNeuro[Symbolic]\\nGNN+attention\\n(Lamb et al., 2020)\\nNN, SpMM, SDDMM\\nVector\\nNLM (Dong et al., 2019)\\nNN, permutation\\nVector\\nNeuro|Symbolic refers to a hybrid system that combines a\\nneural system and a symbolic system in a pipeline, where\\neach component typically specializes in complementary\\ntasks within the pipeline. To the best of our knowledge, the\\nmajority of NSAI algorithms fall into this category. For ex-\\nample, IBM\\u2019s neuro-vector-symbolic architecture (NVSA)\\n(Hersche et al., 2023) uses an NN as the frontend for per-\\nception and semantic parsing, and a symbolic reasoner as\\nthe backend for probabilistic abductive reasoning on the\\nRAVEN (Zhang et al., 2019) and I-RAVEN (Hu et al., 2021)\\ndatasets. Other examples include neuro-probabilistic soft\\nlogic (NeuPSL) (Pryor et al., 2022), neural probabilistic\\nlogic programming (DeepProbLog) (Manhaeve et al., 2021),\\nneuro-answer set programming (NeurASP) (Yang et al.,\\n2020), nerual symbolic dynamic reasoning (Yi et al., 2020),\",\n",
      "        207.8470916748047\n",
      "    ],\n",
      "    [\n",
      "        \"NN, MCTS\\nVector\\nNeuro|Symbolic\\nNVSA (Hersche et al., 2023)\\nNN, mul, add\\nVector\\nNeuPSL (Pryor et al., 2022)\\nNN, fuzzy logic\\nVector\\nNSCL (Mao et al., 2019)\\nNN, add, mul, div, log\\nVector\\nNeurASP (Yang et al., 2020)\\nNN, logic rules\\nNon-Vector\\nABL (Dai et al., 2019)\\nNN, logic rules\\nNon-Vector\\nNSVQA (Yi et al., 2018)\\nNN, pre-defined objects\\nNon-Vector\\nNeuro:Symbolic\\n\\u2192Neuro\\nLNN (Riegel et al., 2020)\\nNN, fuzzy logic\",\n",
      "        205.75453186035156\n",
      "    ],\n",
      "    [\n",
      "        \"Limited extensibility\\nNeuro-Symbolic AI Algorithms\\n+\\n+\\nHardware Compute Platforms\\nLimited evaluation tasks\\nBuilding more cognitive datasets/testbeds\\n1\\n2\\n3\\n4\\n5\\nHuman-like Cognitive AI\\nLearning, Reasoning,\\nCollaboration\\n5\\nFigure 1. Overview of neuro-symbolic AI systems, and challenges\\nand opportunities in advancing next-generation cognitive AI.\\narXiv:2401.01040v1  [cs.AI]  2 Jan 2024\\nTowards Cognitive AI Systems: a Survey and Prospective on Neuro-Symbolic AI\\ncompared to traditional AI models in tasks such as image\\nand video question answering (Mao et al., 2019; Yang et al.,\\n2020), NSAI holds significant potential for enhancing real-\\ntime responses, energy efficiency, explainability, and trust-\\nworthiness of collaborative human-AI applications. These\",\n",
      "        203.65243530273438\n",
      "    ],\n",
      "    [\n",
      "        \"age only increases from 92.06% to 94.71%, but the total\\nruntime of the NVSA model increases by 5.02\\u00d7, indicating\\nthe potential scalability bottleneck of NSAI models.\\nFig. 2(b) partitions the neuro and symbolic workloads of the\\nLNN, LTN, and NVSA models into six operator categories\\nwith runtime breakdown. Below is the workload analysis:\\nNeuro Workload Analysis. The neuro workload is domi-\\nnated by the MatMul and activation operations. LTN (neuro)\\nis dominated by MatMul due to its heavy MLP components,\\nwhile NVSA\\u2019s (neuro) majority runtime is on MatMul and\\nconvolution because it adopts ResNet18 as the perception\\n0.00%\\nLNN\\n0.51%\\n43.6%\\n16.4%\\n39.5%\\n0.00%\\n0.00% 0.00%\\n19.3%\\n17.3%\\n39.4%\\n24.0%\\n0.00% 62.5%\\n26.8%\",\n",
      "        202.08489990234375\n",
      "    ]\n",
      "]\n"
     ]
    }
   ],
   "source": [
    "my_question = \"what is the abstract?\"\n",
    "emb_question = get_embedding(my_question)\n",
    "\n",
    "search_res = milvus_client.search(\n",
    "    collection_name=collection_name,\n",
    "    data=[\n",
    "        emb_question\n",
    "    ],  # Use the `emb_text` function to convert the question to an embedding vector\n",
    "    limit=10,  # Return top 3 results\n",
    "    search_params={\"metric_type\": \"IP\", \"params\": {\"nprobe\": 10}},  # Inner product distance\n",
    "    output_fields=[\"text\"],  # Return the text field\n",
    ")\n",
    "\n",
    "retrieved_lines_with_distances = [\n",
    "    (res[\"entity\"][\"text\"], res[\"distance\"]) for res in search_res[0]\n",
    "]\n",
    "print(json.dumps(retrieved_lines_with_distances, indent=4))"
   ]
  },
  {
   "cell_type": "code",
   "execution_count": null,
   "metadata": {},
   "outputs": [],
   "source": [
    "# 通过上面的实验，我发现RAG的召回效果不好。准确率有点差。\n",
    "# 重新测试，直接将文章的核心信息，给大模型来分析\n",
    "# 如果将全文丢给大模型，这样的话token 消耗又太大了--> \n",
    "# TODO 未来再考虑如何结合token"
   ]
  },
  {
   "cell_type": "code",
   "execution_count": 135,
   "metadata": {},
   "outputs": [
    {
     "name": "stdout",
     "output_type": "stream",
     "text": [
      "abstract\n",
      "introduction\n",
      "conclusion\n",
      "3\n",
      "totoal words: 22585\n",
      "ABSTRACT\n",
      "The remarkable advancements in artificial intelligence (AI), primarily driven by deep neural networks, have\n",
      "significantly impacted various aspects of our lives. However, the current challenges surrounding unsustainable\n",
      "computational trajectories, limited robustness, and a lack of explainability call for the development of next-\n",
      "generation AI systems. Neuro-symbolic AI (NSAI) emerges as a promising paradigm, fusing neural, symbolic,\n",
      "and probabilistic approaches to enhance interpretability, robustness, and trustworthiness while facilitating learning\n",
      "from much less data. Recent NSAI systems have demonstrated great potential in collaborative human-AI scenarios\n",
      "with reasoning and cognitive capabilities. In this paper, we provide a systematic review of recent progress in\n",
      "NSAI and analyze the performance characteristics and computational operators of NSAI models. Furthermore, we\n",
      "discuss the challenges and potential future directions of NSAI from both system and architectural perspect\n"
     ]
    }
   ],
   "source": [
    "# 接下来，我们直接全文让ai 来总结关键问题\n",
    "# 构建一个全文文本：\n",
    "# print('\\n'.join(section_chunks.get('abstract')))\n",
    "full_text_lines=[]\n",
    "for key in title_indices:\n",
    "    print(key)\n",
    "    full_text_lines.append('\\n'.join(section_chunks.get(key)))\n",
    "    if key.strip().lower() == 'conclusion' or key.strip().lower() == 'references':\n",
    "        break\n",
    "# print(full_text[:500])\n",
    "print(len(full_text_lines))\n",
    "full_text = '\\n'.join(full_text_lines)\n",
    "print(f'totoal words: {len(full_text)}')\n",
    "print(full_text[:1000])"
   ]
  },
  {
   "cell_type": "code",
   "execution_count": null,
   "metadata": {},
   "outputs": [
    {
     "name": "stdout",
     "output_type": "stream",
     "text": [
      "Response(id='resp_67ed9d3558ac8191b78381548f1bb9700cecd877f7cfa057', created_at=1743625525.0, error=None, incomplete_details=None, instructions=None, metadata={}, model='gpt-4o-mini-2024-07-18', object='response', output=[ResponseOutputMessage(id='msg_67ed9d35ecf88191bc71369a8cc515230cecd877f7cfa057', content=[ResponseOutputText(annotations=[], text='As the stars twinkled like diamonds, Luna the unicorn danced through the enchanted forest, sprinkling stardust over sleepy flowers and whispering sweet dreams into the night.', type='output_text')], role='assistant', status='completed', type='message')], parallel_tool_calls=True, temperature=1.0, tool_choice='auto', tools=[], top_p=1.0, max_output_tokens=None, previous_response_id=None, reasoning=Reasoning(effort=None, generate_summary=None), status='completed', text=ResponseTextConfig(format=ResponseFormatText(type='text')), truncation='disabled', usage=ResponseUsage(input_tokens=18, input_tokens_details=InputTokensDetails(cached_tokens=0), output_tokens=36, output_tokens_details=OutputTokensDetails(reasoning_tokens=0), total_tokens=54), user=None, store=True)\n"
     ]
    }
   ],
   "source": [
    "from openai import OpenAI\n",
    "client = OpenAI()\n",
    "\n",
    "response = client.responses.create(\n",
    "    model=\"gpt-4o-mini\",\n",
    "    input=\"Write a one-sentence bedtime story about a unicorn.\"\n",
    ")\n",
    "\n",
    "print(response)"
   ]
  },
  {
   "cell_type": "code",
   "execution_count": 151,
   "metadata": {},
   "outputs": [],
   "source": [
    "reviewer_instruction='''你现在一位<AI 算法和理论创新>领域的专家，熟悉学术界和工业界的最新研究成果。我现在给你一篇文章，包括文章的核心信息。\n",
    "现在，要求你从以下几个维度来打分，分数从1到10。10分代表最好：\n",
    "（1） 技术创新性 (Technical Innovation)： 考察其方法相对于已有方案的新颖程度。例如，判断论文是否引入了从未有文献提出过的新机制，或是将以往被视为必要的组件替换为全新的架构。如果一项工作开辟了新方向、引发社区将注意力转向新的研究范式，那么它在技术创新性维度应获得高分，可以在8分以上。\n",
    "（2）性能提升幅度 (Performance Improvement)：查看其在领域公认基准数据集上的实验结果表格，将其与之前发表的最佳结果进行比较。如果论文报告的主要指标有大幅领先，则可判断为高分。如果提升有限甚至没有超越已有结果，则在此维度评分不高。此外，可关注提升是否在多个任务/数据集上复现，还是仅局限于单一场景。真正颠覆性的成果往往在不同测试上都表现优异，体现出方法的普适性能和强大性能增益。\n",
    "（3）理论或工程简洁性 (Theoretical/Engineering Simplicity & Efficiency)：考察其方法是否减少了计算复杂度或工程难度。例如，关注算法的时间复杂度是否降低，模型参数/内存占用是否减少，训练所需算力或时间是否更少。可量化指标包括：与前代方法相比，加速比率、参数减少百分比、模型大小与性能比值等。如果论文提供了与基准方法在计算耗时或资源使用上的对比，那是衡量简洁高效的重要依据。高分论文常能在保持或提高性能的同时，简化模型结构或提高训练推理效率，这样的工作在应用中更具颠覆性价值。\n",
    "（4）可复用性与影响力 (Reusability & Impact)：考察该工作的通用模块或框架性质。例如，论文是否提供了一个易于迁移到其他任务的模型结构或算法。如果一项方法很快融入主流工具链并成为众多研究的基础，则它的可复用性与影响力应打高分。相反，如果方法过于定制或复杂，鲜有他人采用，则此维度得分会较低。\n",
    "（5）作者与机构权威度 (Author & Institutional Authority)：查阅作者的背景（例如Google Scholar页面、实验室网站）以了解他们以往的研究成绩。如果作者来自公认的顶级研究单位或曾发表过有影响力的相关工作，则权威度评分可相应提高。还可考虑论文是否有大咖参与（如知名教授、业界著名研究员），以及机构是否拥有强大的研究传统（比如是否曾培养出许多突破性成果）。\n",
    "\n",
    "最后，请你给出一个建议，是否推荐阅读这篇文章，yes or no, 以及谈一谈你的原因。 如果是一个信息汇总，且没有带来很多额外价值信息, 你可以大胆地打低分，并且表达不推荐。\n",
    "\n",
    "请你将最总结果按照以下json 格式输出，严格按照json格式，请不要加额外的信息。\n",
    "Example of your outputs, the score is just a example, not a reference.\n",
    "{\n",
    "  \"score\": [\n",
    "    {\n",
    "      \"innovation\": 7,\n",
    "      \"reason\": \"The paper systematically reviews and categorizes …..\"\n",
    "    },\n",
    "    {\n",
    "      \"performance\": 5,\n",
    "      \"reason\": \"As a survey paper, it does not present new experimental results …..\"\n",
    "    },\n",
    "    {\n",
    "      \"simplicity\": 6,\n",
    "      \"reason\": \"The paper discusses the computational characteristics and potential …..\"\n",
    "    },\n",
    "    {\n",
    "      \"reusability\": 8,\n",
    "      \"reason\": \"By categorizing …..\"\n",
    "    },\n",
    "    {\n",
    "      \"authority\": 7,\n",
    "      \"reason\": \" a reputable institution known for its contributions to ….\"\n",
    "    }\n",
    "  ],\n",
    "  \"recommend\": \"yes\",\n",
    "  \"reason\": \"The paper offers a comprehensive overview of …..\"\n",
    "  \"who_should_read\": \"beginner… \"\n",
    "}\n",
    "'''"
   ]
  },
  {
   "cell_type": "code",
   "execution_count": 152,
   "metadata": {},
   "outputs": [],
   "source": [
    "paper_context = '''\n",
    "论文名称：“TOWARDS COGNITIVE AI SYSTEMS: A SURVEY AND PROSPECTIVE ON NEURO-SYMBOLIC AI”\n",
    "摘要：“The remarkable advancements in artificial intelligence (AI), primarily driven by deep neural networks, have significantly impacted various aspects of our lives. However, the current challenges surrounding unsustainable computational trajectories, limited robustness, and a lack of explainability call for the development of next\u0002generation AI systems. Neuro-symbolic AI (NSAI) emerges as a promising paradigm, fusing neural, symbolic, and probabilistic approaches to enhance interpretability, robustness, and trustworthiness while facilitating learning from much less data. Recent NSAI systems have demonstrated great potential in collaborative human-AI scenarios with reasoning and cognitive capabilities. In this paper, we provide a systematic review of recent progress in NSAI and analyze the performance characteristics and computational operators of NSAI models. Furthermore, we discuss the challenges and potential future directions of NSAI from both system and architectural perspectives.”\n",
    "结论：“NSAI is an emerging paradigm for next-generation efficient, robust, explainable, and cognitive AI systems. This paper systematically reviews recent NSAI algorithms, characterizes their system performance, analyzes their workload operators, and identifies the challenges and opportunities towards fullfiling next-generation NSAI systems.”\n",
    "'''"
   ]
  },
  {
   "cell_type": "code",
   "execution_count": null,
   "metadata": {},
   "outputs": [
    {
     "name": "stdout",
     "output_type": "stream",
     "text": [
      "Response(id='resp_67ed9e986fa081919c5123533ff05d500a172234a88c2e2d', created_at=1743625880.0, error=None, incomplete_details=None, instructions='你现在一位<AI 算法和理论创新>领域的专家，熟悉学术界和工业界的最新研究成果。我现在给你一篇文章，包括文章的核心信息。\\n现在，要求你从以下几个维度来打分，分数从1到10。10分代表最好：\\n（1） 技术创新性 (Technical Innovation)： 考察其方法相对于已有方案的新颖程度。例如，判断论文是否引入了从未有文献提出过的新机制，或是将以往被视为必要的组件替换为全新的架构。如果一项工作开辟了新方向、引发社区将注意力转向新的研究范式，那么它在技术创新性维度应获得高分，可以在8分以上。\\n（2）性能提升幅度 (Performance Improvement)：查看其在领域公认基准数据集上的实验结果表格，将其与之前发表的最佳结果进行比较。如果论文报告的主要指标有大幅领先，则可判断为高分。如果提升有限甚至没有超越已有结果，则在此维度评分不高。此外，可关注提升是否在多个任务/数据集上复现，还是仅局限于单一场景。真正颠覆性的成果往往在不同测试上都表现优异，体现出方法的普适性能和强大性能增益。\\n（3）理论或工程简洁性 (Theoretical/Engineering Simplicity & Efficiency)：考察其方法是否减少了计算复杂度或工程难度。例如，关注算法的时间复杂度是否降低，模型参数/内存占用是否减少，训练所需算力或时间是否更少。可量化指标包括：与前代方法相比，加速比率、参数减少百分比、模型大小与性能比值等。如果论文提供了与基准方法在计算耗时或资源使用上的对比，那是衡量简洁高效的重要依据。高分论文常能在保持或提高性能的同时，简化模型结构或提高训练推理效率，这样的工作在应用中更具颠覆性价值。\\n（4）可复用性与影响力 (Reusability & Impact)：考察该工作的通用模块或框架性质。例如，论文是否提供了一个易于迁移到其他任务的模型结构或算法。如果一项方法很快融入主流工具链并成为众多研究的基础，则它的可复用性与影响力应打高分。相反，如果方法过于定制或复杂，鲜有他人采用，则此维度得分会较低。\\n（5）作者与机构权威度 (Author & Institutional Authority)：查阅作者的背景（例如Google Scholar页面、实验室网站）以了解他们以往的研究成绩。如果作者来自公认的顶级研究单位或曾发表过有影响力的相关工作，则权威度评分可相应提高。还可考虑论文是否有大咖参与（如知名教授、业界著名研究员），以及机构是否拥有强大的研究传统（比如是否曾培养出许多突破性成果）。\\n\\n最后，请你给出一个建议，是否推荐阅读这篇文章，yes or no, 以及谈一谈你的原因。 如果是一个信息汇总，且没有带来很多额外价值信息, 你可以大胆地打低分，并且表达不推荐。\\n\\n请你将最总结果按照以下json 格式输出，严格按照json格式，请不要加额外的信息。\\nExample of your outputs, the score is just a example, not a reference.\\n{\\n  \"score\": [\\n    {\\n      \"innovation\": 7,\\n      \"reason\": \"The paper systematically reviews and categorizes …..\"\\n    },\\n    {\\n      \"performance\": 5,\\n      \"reason\": \"As a survey paper, it does not present new experimental results …..\"\\n    },\\n    {\\n      \"simplicity\": 6,\\n      \"reason\": \"The paper discusses the computational characteristics and potential …..\"\\n    },\\n    {\\n      \"reusability\": 8,\\n      \"reason\": \"By categorizing …..\"\\n    },\\n    {\\n      \"authority\": 7,\\n      \"reason\": \" a reputable institution known for its contributions to ….\"\\n    }\\n  ],\\n  \"recommend\": \"yes\",\\n  \"reason\": \"The paper offers a comprehensive overview of …..\"\\n  \"who_should_read\": \"beginner… \"\\n}\\n', metadata={}, model='gpt-4o-mini-2024-07-18', object='response', output=[ResponseOutputMessage(id='msg_67ed9ebc2aa481918edadee3cf18ca980a172234a88c2e2d', content=[ResponseOutputText(annotations=[], text='{\\n  \"score\": [\\n    {\\n      \"innovation\": 6,\\n      \"reason\": \"The paper surveys the current advancements in neuro-symbolic AI, but does not propose a novel mechanism or framework.\"\\n    },\\n    {\\n      \"performance\": 5,\\n      \"reason\": \"While the paper reviews existing NSAI systems, it lacks new experimental results to support claims of performance improvements.\"\\n    },\\n    {\\n      \"simplicity\": 7,\\n      \"reason\": \"The paper discusses the computational characteristics, which may suggest simpler approaches but does not provide quantifiable measures of complexity reduction.\"\\n    },\\n    {\\n      \"reusability\": 6,\\n      \"reason\": \"The review lays groundwork for future work in NSAI, but the immediate applicability of the discussed methods may be limited.\"\\n    },\\n    {\\n      \"authority\": 8,\\n      \"reason\": \"The authors are associated with reputable institutions known for contributions to AI research, adding credibility to the findings.\"\\n    }\\n  ],\\n  \"recommend\": \"no\",\\n  \"reason\": \"The paper primarily serves as a survey without significant new insights or empirical contributions.\"\\n}', type='output_text')], role='assistant', status='completed', type='message')], parallel_tool_calls=True, temperature=1.0, tool_choice='auto', tools=[], top_p=1.0, max_output_tokens=None, previous_response_id=None, reasoning=Reasoning(effort=None, generate_summary=None), status='completed', text=ResponseTextConfig(format=ResponseFormatText(type='text')), truncation='disabled', usage=ResponseUsage(input_tokens=1212, input_tokens_details=InputTokensDetails(cached_tokens=1152), output_tokens=229, output_tokens_details=OutputTokensDetails(reasoning_tokens=0), total_tokens=1441), user=None, store=True)\n"
     ]
    }
   ],
   "source": [
    "response = client.responses.create(\n",
    "    model=\"gpt-4o-mini\",\n",
    "    instructions=reviewer_instruction,\n",
    "    input=paper_context\n",
    ")\n",
    "\n",
    "print(response)"
   ]
  },
  {
   "cell_type": "code",
   "execution_count": 148,
   "metadata": {},
   "outputs": [
    {
     "data": {
      "text/plain": [
       "'{\\n  \"score\": [\\n    {\\n      \"innovation\": 6,\\n      \"reason\": \"The paper surveys the current advancements in neuro-symbolic AI, but does not propose a novel mechanism or framework.\"\\n    },\\n    {\\n      \"performance\": 5,\\n      \"reason\": \"While the paper reviews existing NSAI systems, it lacks new experimental results to support claims of performance improvements.\"\\n    },\\n    {\\n      \"simplicity\": 7,\\n      \"reason\": \"The paper discusses the computational characteristics, which may suggest simpler approaches but does not provide quantifiable measures of complexity reduction.\"\\n    },\\n    {\\n      \"reusability\": 6,\\n      \"reason\": \"The review lays groundwork for future work in NSAI, but the immediate applicability of the discussed methods may be limited.\"\\n    },\\n    {\\n      \"authority\": 8,\\n      \"reason\": \"The authors are associated with reputable institutions known for contributions to AI research, adding credibility to the findings.\"\\n    }\\n  ],\\n  \"recommend\": \"no\",\\n  \"reason\": \"The paper primarily serves as a survey without significant new insights or empirical contributions.\"\\n}'"
      ]
     },
     "execution_count": 148,
     "metadata": {},
     "output_type": "execute_result"
    }
   ],
   "source": [
    "response.output_text"
   ]
  },
  {
   "cell_type": "code",
   "execution_count": 149,
   "metadata": {},
   "outputs": [],
   "source": [
    "# 让我们再问关键的几个问题\n",
    "info_summery_assistant = '''请根据以下问题，提供详细的回答，并确保答案以JSON格式返回。每个问题后紧跟其答案：\n",
    "{\n",
    "\"core_problem\": \"1. 这篇文章试图解决的核心问题是什么？\",\n",
    "\"technical_contributions\": \"2. 该论文的主要技术贡献是什么？\",\n",
    "\"innovations_and_proposals\": [\n",
    "\"3. 该论文提出了哪些创新点或建议？\"\n",
    "],\n",
    "\"sota_comparison\": \"4. 该论文是否与当前最先进的研究成果进行了比较？如果有，比较的结论是什么？\",\n",
    "\"authors_and_affiliations\": {\n",
    "\"authors\": [\n",
    "\"5. 论文的作者是谁？\"\n",
    "],\n",
    "\"institution\": \"6. 他们属于哪个机构？\"\n",
    "},\n",
    "\"influence_assessment\": \"7. 请评估作者和其所属机构在学术界和工业界的影响力。\"\n",
    "}\n",
    "\n",
    "请用具体的信息替换JSON中的每个问题，并确保生成的JSON格式正确。'''"
   ]
  },
  {
   "cell_type": "code",
   "execution_count": 153,
   "metadata": {},
   "outputs": [
    {
     "name": "stdout",
     "output_type": "stream",
     "text": [
      "Response(id='resp_67eda38bbfc48191bb56d98c10ea43c80474a926a37efb41', created_at=1743627147.0, error=None, incomplete_details=None, instructions='请根据以下问题，提供详细的回答，并确保答案以JSON格式返回。每个问题后紧跟其答案：\\n{\\n\"core_problem\": \"1. 这篇文章试图解决的核心问题是什么？\",\\n\"technical_contributions\": \"2. 该论文的主要技术贡献是什么？\",\\n\"innovations_and_proposals\": [\\n\"3. 该论文提出了哪些创新点或建议？\"\\n],\\n\"sota_comparison\": \"4. 该论文是否与当前最先进的研究成果进行了比较？如果有，比较的结论是什么？\",\\n\"authors_and_affiliations\": {\\n\"authors\": [\\n\"5. 论文的作者是谁？\"\\n],\\n\"institution\": \"6. 他们属于哪个机构？\"\\n},\\n\"influence_assessment\": \"7. 请评估作者和其所属机构在学术界和工业界的影响力。\"\\n}\\n\\n请用具体的信息替换JSON中的每个问题，并确保生成的JSON格式正确。', metadata={}, model='gpt-4o-mini-2024-07-18', object='response', output=[ResponseOutputMessage(id='msg_67eda38c90c48191b52181b3c2c57e8f0474a926a37efb41', content=[ResponseOutputText(annotations=[], text='```json\\n{\\n  \"core_problem\": \"1. 这篇文章试图解决的核心问题是什么？: 文章关注人工智能领域中当前AI系统面临的挑战，如计算成本无法持续、稳定性不足和缺乏可解释性，并提出了开发下一代AI系统的必要性。\",\\n  \"technical_contributions\": \"2. 该论文的主要技术贡献是什么？: 论文系统性地回顾了神经符号AI（NSAI）的进展，分析了NSAI模型的性能特征和计算操作，为改进AI的可解释性、稳健性和信任度提供了理论基础和实际实施建议。\",\\n  \"innovations_and_proposals\": [\\n    \"3. 该论文提出了哪些创新点或建议？: 论文中提出通过融合神经网络、符号处理和概率模型来增强AI系统的表现，探讨了NSAI在数据稀缺情况下的学习能力，并识别出未来研究的潜在方向。\"\\n  ],\\n  \"sota_comparison\": \"4. 该论文是否与当前最先进的研究成果进行了比较？如果有，比较的结论是什么？: 是的，论文对现有的最先进技术进行了比较，指出了NSAI在协作人机场景中展现出更好的推理和认知能力，从而在当前AI技术中具有显著优势。\",\\n  \"authors_and_affiliations\": {\\n    \"authors\": [\\n      \"5. 论文的作者是谁？: 具体作者信息未提供，通常在论文中列出。\"\\n    ],\\n    \"institution\": \"6. 他们属于哪个机构？: 具体机构信息未提供，通常在论文中列出。\"\\n  },\\n  \"influence_assessment\": \"7. 请评估作者和其所属机构在学术界和工业界的影响力。: 由于缺少具体的作者和机构信息，无法进行权威评估，但一般来说，做出NSAI贡献的学者和机构在AI研究领域普遍具有较高的学术声誉和应用影响力。\"\\n}\\n```', type='output_text')], role='assistant', status='completed', type='message')], parallel_tool_calls=True, temperature=1.0, tool_choice='auto', tools=[], top_p=1.0, max_output_tokens=None, previous_response_id=None, reasoning=Reasoning(effort=None, generate_summary=None), status='completed', text=ResponseTextConfig(format=ResponseFormatText(type='text')), truncation='disabled', usage=ResponseUsage(input_tokens=478, input_tokens_details=InputTokensDetails(cached_tokens=0), output_tokens=459, output_tokens_details=OutputTokensDetails(reasoning_tokens=0), total_tokens=937), user=None, store=True)\n"
     ]
    }
   ],
   "source": [
    "response = client.responses.create(\n",
    "    model=\"gpt-4o-mini\",\n",
    "    instructions=info_summery_assistant,\n",
    "    input=paper_context\n",
    ")\n",
    "\n",
    "print(response)"
   ]
  },
  {
   "cell_type": "code",
   "execution_count": 154,
   "metadata": {},
   "outputs": [
    {
     "data": {
      "text/plain": [
       "'```json\\n{\\n  \"core_problem\": \"1. 这篇文章试图解决的核心问题是什么？: 文章关注人工智能领域中当前AI系统面临的挑战，如计算成本无法持续、稳定性不足和缺乏可解释性，并提出了开发下一代AI系统的必要性。\",\\n  \"technical_contributions\": \"2. 该论文的主要技术贡献是什么？: 论文系统性地回顾了神经符号AI（NSAI）的进展，分析了NSAI模型的性能特征和计算操作，为改进AI的可解释性、稳健性和信任度提供了理论基础和实际实施建议。\",\\n  \"innovations_and_proposals\": [\\n    \"3. 该论文提出了哪些创新点或建议？: 论文中提出通过融合神经网络、符号处理和概率模型来增强AI系统的表现，探讨了NSAI在数据稀缺情况下的学习能力，并识别出未来研究的潜在方向。\"\\n  ],\\n  \"sota_comparison\": \"4. 该论文是否与当前最先进的研究成果进行了比较？如果有，比较的结论是什么？: 是的，论文对现有的最先进技术进行了比较，指出了NSAI在协作人机场景中展现出更好的推理和认知能力，从而在当前AI技术中具有显著优势。\",\\n  \"authors_and_affiliations\": {\\n    \"authors\": [\\n      \"5. 论文的作者是谁？: 具体作者信息未提供，通常在论文中列出。\"\\n    ],\\n    \"institution\": \"6. 他们属于哪个机构？: 具体机构信息未提供，通常在论文中列出。\"\\n  },\\n  \"influence_assessment\": \"7. 请评估作者和其所属机构在学术界和工业界的影响力。: 由于缺少具体的作者和机构信息，无法进行权威评估，但一般来说，做出NSAI贡献的学者和机构在AI研究领域普遍具有较高的学术声誉和应用影响力。\"\\n}\\n```'"
      ]
     },
     "execution_count": 154,
     "metadata": {},
     "output_type": "execute_result"
    }
   ],
   "source": [
    "response.output_text"
   ]
  },
  {
   "cell_type": "code",
   "execution_count": 155,
   "metadata": {},
   "outputs": [
    {
     "name": "stdout",
     "output_type": "stream",
     "text": [
      "\n",
      "论文名称：“TOWARDS COGNITIVE AI SYSTEMS: A SURVEY AND PROSPECTIVE ON NEURO-SYMBOLIC AI”\n",
      "摘要：“The remarkable advancements in artificial intelligence (AI), primarily driven by deep neural networks, have significantly impacted various aspects of our lives. However, the current challenges surrounding unsustainable computational trajectories, limited robustness, and a lack of explainability call for the development of next\u0002generation AI systems. Neuro-symbolic AI (NSAI) emerges as a promising paradigm, fusing neural, symbolic, and probabilistic approaches to enhance interpretability, robustness, and trustworthiness while facilitating learning from much less data. Recent NSAI systems have demonstrated great potential in collaborative human-AI scenarios with reasoning and cognitive capabilities. In this paper, we provide a systematic review of recent progress in NSAI and analyze the performance characteristics and computational operators of NSAI models. Furthermore, we discuss the challenges and potential future directions of NSAI from both system and architectural perspectives.”\n",
      "结论：“NSAI is an emerging paradigm for next-generation efficient, robust, explainable, and cognitive AI systems. This paper systematically reviews recent NSAI algorithms, characterizes their system performance, analyzes their workload operators, and identifies the challenges and opportunities towards fullfiling next-generation NSAI systems.”\n",
      "\n",
      "为了更好地帮助你判断文章的价值，我检索了当前的state of the art 信息供你参考：Neuro-Symbolic AI integrates the learning capabilities of neural networks with the logical reasoning strengths of symbolic AI, aiming to develop systems with enhanced cognitive abilities. The latest research directions and advancements in this field include: \n",
      "1. Knowledge Representation and Integration: Developing methods to combine symbolic knowledge with neural networks to enhance AI systems’ understanding and reasoning capabilities. For example, integrating knowledge graphs with deep learning models to perform complex reasoning tasks.\n",
      " 2. Combining Learning and Reasoning: Exploring new neural network architectures and training algorithms that incorporate symbolic reasoning, thereby improving model interpretability and generalization.  \n",
      "3. Meta-Cognition: Investigating ways to equip AI systems with self-monitoring and self-adjusting abilities, enhancing their autonomy and adaptability.\n",
      " 4. Verification and Validation (V&V) Methods: Developing new techniques to ensure the reliability and safety of neuro-symbolic AI systems.\n",
      " 5. Hardware Architecture Optimization: Analyzing the workload characteristics of neuro-symbolic AI to design efficient hardware architectures that support complex neuro-symbolic computations.  \n",
      "6. Application of Foundation Models: Utilizing large pre-trained models (e.g., GPT) to enhance neuro-symbolic learning and reasoning tasks, reducing the dependence on extensive labeled data.\n",
      "\n",
      "These research directions aim to overcome current AI system challenges in interpretability, robustness, and data efficiency, propelling the development of next-generation cognitive AI systems.\n",
      "\n"
     ]
    }
   ],
   "source": [
    "# 获取到某1个或者多个话题的最新学术进展，这个定时更新的事实标准，实际上是可以缓存，从我们自己的系统里面拿，不用每次请求api. 数据库内容定时刷新\n",
    "sota_info ='''为了更好地帮助你判断文章的价值，我检索了当前的state of the art 信息供你参考：Neuro-Symbolic AI integrates the learning capabilities of neural networks with the logical reasoning strengths of symbolic AI, aiming to develop systems with enhanced cognitive abilities. The latest research directions and advancements in this field include: \n",
    "1. Knowledge Representation and Integration: Developing methods to combine symbolic knowledge with neural networks to enhance AI systems’ understanding and reasoning capabilities. For example, integrating knowledge graphs with deep learning models to perform complex reasoning tasks.\n",
    " 2. Combining Learning and Reasoning: Exploring new neural network architectures and training algorithms that incorporate symbolic reasoning, thereby improving model interpretability and generalization.  \n",
    "3. Meta-Cognition: Investigating ways to equip AI systems with self-monitoring and self-adjusting abilities, enhancing their autonomy and adaptability.\n",
    " 4. Verification and Validation (V&V) Methods: Developing new techniques to ensure the reliability and safety of neuro-symbolic AI systems.\n",
    " 5. Hardware Architecture Optimization: Analyzing the workload characteristics of neuro-symbolic AI to design efficient hardware architectures that support complex neuro-symbolic computations.  \n",
    "6. Application of Foundation Models: Utilizing large pre-trained models (e.g., GPT) to enhance neuro-symbolic learning and reasoning tasks, reducing the dependence on extensive labeled data.\n",
    "\n",
    "These research directions aim to overcome current AI system challenges in interpretability, robustness, and data efficiency, propelling the development of next-generation cognitive AI systems.\n",
    "'''\n",
    "final_query ='\\n'.join([paper_context,sota_info])\n",
    "print(final_query)"
   ]
  },
  {
   "cell_type": "code",
   "execution_count": 156,
   "metadata": {},
   "outputs": [
    {
     "name": "stdout",
     "output_type": "stream",
     "text": [
      "Response(id='resp_67eda5167ae88191abcb9a9d36522f1c03b56f0d1affccc7', created_at=1743627542.0, error=None, incomplete_details=None, instructions='你现在一位<AI 算法和理论创新>领域的专家，熟悉学术界和工业界的最新研究成果。我现在给你一篇文章，包括文章的核心信息。\\n现在，要求你从以下几个维度来打分，分数从1到10。10分代表最好：\\n（1） 技术创新性 (Technical Innovation)： 考察其方法相对于已有方案的新颖程度。例如，判断论文是否引入了从未有文献提出过的新机制，或是将以往被视为必要的组件替换为全新的架构。如果一项工作开辟了新方向、引发社区将注意力转向新的研究范式，那么它在技术创新性维度应获得高分，可以在8分以上。\\n（2）性能提升幅度 (Performance Improvement)：查看其在领域公认基准数据集上的实验结果表格，将其与之前发表的最佳结果进行比较。如果论文报告的主要指标有大幅领先，则可判断为高分。如果提升有限甚至没有超越已有结果，则在此维度评分不高。此外，可关注提升是否在多个任务/数据集上复现，还是仅局限于单一场景。真正颠覆性的成果往往在不同测试上都表现优异，体现出方法的普适性能和强大性能增益。\\n（3）理论或工程简洁性 (Theoretical/Engineering Simplicity & Efficiency)：考察其方法是否减少了计算复杂度或工程难度。例如，关注算法的时间复杂度是否降低，模型参数/内存占用是否减少，训练所需算力或时间是否更少。可量化指标包括：与前代方法相比，加速比率、参数减少百分比、模型大小与性能比值等。如果论文提供了与基准方法在计算耗时或资源使用上的对比，那是衡量简洁高效的重要依据。高分论文常能在保持或提高性能的同时，简化模型结构或提高训练推理效率，这样的工作在应用中更具颠覆性价值。\\n（4）可复用性与影响力 (Reusability & Impact)：考察该工作的通用模块或框架性质。例如，论文是否提供了一个易于迁移到其他任务的模型结构或算法。如果一项方法很快融入主流工具链并成为众多研究的基础，则它的可复用性与影响力应打高分。相反，如果方法过于定制或复杂，鲜有他人采用，则此维度得分会较低。\\n（5）作者与机构权威度 (Author & Institutional Authority)：查阅作者的背景（例如Google Scholar页面、实验室网站）以了解他们以往的研究成绩。如果作者来自公认的顶级研究单位或曾发表过有影响力的相关工作，则权威度评分可相应提高。还可考虑论文是否有大咖参与（如知名教授、业界著名研究员），以及机构是否拥有强大的研究传统（比如是否曾培养出许多突破性成果）。\\n\\n最后，请你给出一个建议，是否推荐阅读这篇文章，yes or no, 以及谈一谈你的原因。 如果是一个信息汇总，且没有带来很多额外价值信息, 你可以大胆地打低分，并且表达不推荐。\\n\\n请你将最总结果按照以下json 格式输出，严格按照json格式，请不要加额外的信息。\\nExample of your outputs, the score is just a example, not a reference.\\n{\\n  \"score\": [\\n    {\\n      \"innovation\": 7,\\n      \"reason\": \"The paper systematically reviews and categorizes …..\"\\n    },\\n    {\\n      \"performance\": 5,\\n      \"reason\": \"As a survey paper, it does not present new experimental results …..\"\\n    },\\n    {\\n      \"simplicity\": 6,\\n      \"reason\": \"The paper discusses the computational characteristics and potential …..\"\\n    },\\n    {\\n      \"reusability\": 8,\\n      \"reason\": \"By categorizing …..\"\\n    },\\n    {\\n      \"authority\": 7,\\n      \"reason\": \" a reputable institution known for its contributions to ….\"\\n    }\\n  ],\\n  \"recommend\": \"yes\",\\n  \"reason\": \"The paper offers a comprehensive overview of …..\"\\n  \"who_should_read\": \"beginner… \"\\n}\\n', metadata={}, model='gpt-4o-mini-2024-07-18', object='response', output=[ResponseOutputMessage(id='msg_67eda516ffac81919863c07d2b913e5e03b56f0d1affccc7', content=[ResponseOutputText(annotations=[], text='{\\n  \"score\": [\\n    {\\n      \"innovation\": 6,\\n      \"reason\": \"The paper presents a systematic review of NSAI, though it does not introduce new mechanisms but discusses existing advancements.\"\\n    },\\n    {\\n      \"performance\": 5,\\n      \"reason\": \"The focus is on a review rather than new experimental results, limiting performance comparison with state-of-the-art systems.\"\\n    },\\n    {\\n      \"simplicity\": 7,\\n      \"reason\": \"The paper effectively outlines the performance characteristics and operators of NSAI but does not provide detailed efficiency metrics.\"\\n    },\\n    {\\n      \"reusability\": 8,\\n      \"reason\": \"It addresses various frameworks and challenges in NSAI, making it relevant for future research and application.\"\\n    },\\n    {\\n      \"authority\": 7,\\n      \"reason\": \"The authors appear to be from a reputable institution, adding credibility to the review of NSAI advancements.\"\\n    }\\n  ],\\n  \"recommend\": \"yes\",\\n  \"reason\": \"The paper offers a comprehensive overview of the NSAI paradigm, identifying critical challenges and future directions, valuable for researchers in AI.\"\\n}\\n', type='output_text')], role='assistant', status='completed', type='message')], parallel_tool_calls=True, temperature=1.0, tool_choice='auto', tools=[], top_p=1.0, max_output_tokens=None, previous_response_id=None, reasoning=Reasoning(effort=None, generate_summary=None), status='completed', text=ResponseTextConfig(format=ResponseFormatText(type='text')), truncation='disabled', usage=ResponseUsage(input_tokens=1511, input_tokens_details=InputTokensDetails(cached_tokens=0), output_tokens=233, output_tokens_details=OutputTokensDetails(reasoning_tokens=0), total_tokens=1744), user=None, store=True)\n"
     ]
    }
   ],
   "source": [
    "response = client.responses.create(\n",
    "    model=\"gpt-4o-mini\",\n",
    "    instructions=reviewer_instruction,\n",
    "    input=final_query\n",
    ")\n",
    "\n",
    "print(response)"
   ]
  },
  {
   "cell_type": "code",
   "execution_count": 157,
   "metadata": {},
   "outputs": [
    {
     "data": {
      "text/plain": [
       "'{\\n  \"score\": [\\n    {\\n      \"innovation\": 6,\\n      \"reason\": \"The paper presents a systematic review of NSAI, though it does not introduce new mechanisms but discusses existing advancements.\"\\n    },\\n    {\\n      \"performance\": 5,\\n      \"reason\": \"The focus is on a review rather than new experimental results, limiting performance comparison with state-of-the-art systems.\"\\n    },\\n    {\\n      \"simplicity\": 7,\\n      \"reason\": \"The paper effectively outlines the performance characteristics and operators of NSAI but does not provide detailed efficiency metrics.\"\\n    },\\n    {\\n      \"reusability\": 8,\\n      \"reason\": \"It addresses various frameworks and challenges in NSAI, making it relevant for future research and application.\"\\n    },\\n    {\\n      \"authority\": 7,\\n      \"reason\": \"The authors appear to be from a reputable institution, adding credibility to the review of NSAI advancements.\"\\n    }\\n  ],\\n  \"recommend\": \"yes\",\\n  \"reason\": \"The paper offers a comprehensive overview of the NSAI paradigm, identifying critical challenges and future directions, valuable for researchers in AI.\"\\n}\\n'"
      ]
     },
     "execution_count": 157,
     "metadata": {},
     "output_type": "execute_result"
    }
   ],
   "source": [
    "response.output_text"
   ]
  }
 ],
 "metadata": {
  "kernelspec": {
   "display_name": "deepenv",
   "language": "python",
   "name": "python3"
  },
  "language_info": {
   "codemirror_mode": {
    "name": "ipython",
    "version": 3
   },
   "file_extension": ".py",
   "mimetype": "text/x-python",
   "name": "python",
   "nbconvert_exporter": "python",
   "pygments_lexer": "ipython3",
   "version": "3.11.9"
  }
 },
 "nbformat": 4,
 "nbformat_minor": 2
}
